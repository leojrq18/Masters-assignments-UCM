{
  "nbformat": 4,
  "nbformat_minor": 0,
  "metadata": {
    "colab": {
      "provenance": [],
      "gpuType": "T4"
    },
    "kernelspec": {
      "name": "python3",
      "display_name": "Python 3"
    },
    "language_info": {
      "name": "python"
    },
    "accelerator": "GPU",
    "widgets": {
      "application/vnd.jupyter.widget-state+json": {
        "b9b003fb053e4ee295d2195bcdf43a79": {
          "model_module": "@jupyter-widgets/controls",
          "model_name": "HBoxModel",
          "model_module_version": "1.5.0",
          "state": {
            "_dom_classes": [],
            "_model_module": "@jupyter-widgets/controls",
            "_model_module_version": "1.5.0",
            "_model_name": "HBoxModel",
            "_view_count": null,
            "_view_module": "@jupyter-widgets/controls",
            "_view_module_version": "1.5.0",
            "_view_name": "HBoxView",
            "box_style": "",
            "children": [
              "IPY_MODEL_702ccdb8c07d4bbc9a66202ab32716eb",
              "IPY_MODEL_9ded15ec9387437da9d659512dc467a7",
              "IPY_MODEL_04d8df055c99465db2b6dc329aaa3310"
            ],
            "layout": "IPY_MODEL_2d80944ccd1e44bc80ae2b5ce2cd3dcb"
          }
        },
        "702ccdb8c07d4bbc9a66202ab32716eb": {
          "model_module": "@jupyter-widgets/controls",
          "model_name": "HTMLModel",
          "model_module_version": "1.5.0",
          "state": {
            "_dom_classes": [],
            "_model_module": "@jupyter-widgets/controls",
            "_model_module_version": "1.5.0",
            "_model_name": "HTMLModel",
            "_view_count": null,
            "_view_module": "@jupyter-widgets/controls",
            "_view_module_version": "1.5.0",
            "_view_name": "HTMLView",
            "description": "",
            "description_tooltip": null,
            "layout": "IPY_MODEL_cba189410b624caeae0d797583ad4d06",
            "placeholder": "​",
            "style": "IPY_MODEL_fdeb1d78f27b4bc089b22c4e6b28e7f2",
            "value": "tokenizer_config.json: 100%"
          }
        },
        "9ded15ec9387437da9d659512dc467a7": {
          "model_module": "@jupyter-widgets/controls",
          "model_name": "FloatProgressModel",
          "model_module_version": "1.5.0",
          "state": {
            "_dom_classes": [],
            "_model_module": "@jupyter-widgets/controls",
            "_model_module_version": "1.5.0",
            "_model_name": "FloatProgressModel",
            "_view_count": null,
            "_view_module": "@jupyter-widgets/controls",
            "_view_module_version": "1.5.0",
            "_view_name": "ProgressView",
            "bar_style": "success",
            "description": "",
            "description_tooltip": null,
            "layout": "IPY_MODEL_64a4f35efe584dcbaea76cd407ef0710",
            "max": 48,
            "min": 0,
            "orientation": "horizontal",
            "style": "IPY_MODEL_cae69524f8d64d989927b8b5b0e86a8e",
            "value": 48
          }
        },
        "04d8df055c99465db2b6dc329aaa3310": {
          "model_module": "@jupyter-widgets/controls",
          "model_name": "HTMLModel",
          "model_module_version": "1.5.0",
          "state": {
            "_dom_classes": [],
            "_model_module": "@jupyter-widgets/controls",
            "_model_module_version": "1.5.0",
            "_model_name": "HTMLModel",
            "_view_count": null,
            "_view_module": "@jupyter-widgets/controls",
            "_view_module_version": "1.5.0",
            "_view_name": "HTMLView",
            "description": "",
            "description_tooltip": null,
            "layout": "IPY_MODEL_64cba002491441d0b7b717e3fb70993c",
            "placeholder": "​",
            "style": "IPY_MODEL_9c017471737c4f9eae131434503589d9",
            "value": " 48.0/48.0 [00:00&lt;00:00, 3.41kB/s]"
          }
        },
        "2d80944ccd1e44bc80ae2b5ce2cd3dcb": {
          "model_module": "@jupyter-widgets/base",
          "model_name": "LayoutModel",
          "model_module_version": "1.2.0",
          "state": {
            "_model_module": "@jupyter-widgets/base",
            "_model_module_version": "1.2.0",
            "_model_name": "LayoutModel",
            "_view_count": null,
            "_view_module": "@jupyter-widgets/base",
            "_view_module_version": "1.2.0",
            "_view_name": "LayoutView",
            "align_content": null,
            "align_items": null,
            "align_self": null,
            "border": null,
            "bottom": null,
            "display": null,
            "flex": null,
            "flex_flow": null,
            "grid_area": null,
            "grid_auto_columns": null,
            "grid_auto_flow": null,
            "grid_auto_rows": null,
            "grid_column": null,
            "grid_gap": null,
            "grid_row": null,
            "grid_template_areas": null,
            "grid_template_columns": null,
            "grid_template_rows": null,
            "height": null,
            "justify_content": null,
            "justify_items": null,
            "left": null,
            "margin": null,
            "max_height": null,
            "max_width": null,
            "min_height": null,
            "min_width": null,
            "object_fit": null,
            "object_position": null,
            "order": null,
            "overflow": null,
            "overflow_x": null,
            "overflow_y": null,
            "padding": null,
            "right": null,
            "top": null,
            "visibility": null,
            "width": null
          }
        },
        "cba189410b624caeae0d797583ad4d06": {
          "model_module": "@jupyter-widgets/base",
          "model_name": "LayoutModel",
          "model_module_version": "1.2.0",
          "state": {
            "_model_module": "@jupyter-widgets/base",
            "_model_module_version": "1.2.0",
            "_model_name": "LayoutModel",
            "_view_count": null,
            "_view_module": "@jupyter-widgets/base",
            "_view_module_version": "1.2.0",
            "_view_name": "LayoutView",
            "align_content": null,
            "align_items": null,
            "align_self": null,
            "border": null,
            "bottom": null,
            "display": null,
            "flex": null,
            "flex_flow": null,
            "grid_area": null,
            "grid_auto_columns": null,
            "grid_auto_flow": null,
            "grid_auto_rows": null,
            "grid_column": null,
            "grid_gap": null,
            "grid_row": null,
            "grid_template_areas": null,
            "grid_template_columns": null,
            "grid_template_rows": null,
            "height": null,
            "justify_content": null,
            "justify_items": null,
            "left": null,
            "margin": null,
            "max_height": null,
            "max_width": null,
            "min_height": null,
            "min_width": null,
            "object_fit": null,
            "object_position": null,
            "order": null,
            "overflow": null,
            "overflow_x": null,
            "overflow_y": null,
            "padding": null,
            "right": null,
            "top": null,
            "visibility": null,
            "width": null
          }
        },
        "fdeb1d78f27b4bc089b22c4e6b28e7f2": {
          "model_module": "@jupyter-widgets/controls",
          "model_name": "DescriptionStyleModel",
          "model_module_version": "1.5.0",
          "state": {
            "_model_module": "@jupyter-widgets/controls",
            "_model_module_version": "1.5.0",
            "_model_name": "DescriptionStyleModel",
            "_view_count": null,
            "_view_module": "@jupyter-widgets/base",
            "_view_module_version": "1.2.0",
            "_view_name": "StyleView",
            "description_width": ""
          }
        },
        "64a4f35efe584dcbaea76cd407ef0710": {
          "model_module": "@jupyter-widgets/base",
          "model_name": "LayoutModel",
          "model_module_version": "1.2.0",
          "state": {
            "_model_module": "@jupyter-widgets/base",
            "_model_module_version": "1.2.0",
            "_model_name": "LayoutModel",
            "_view_count": null,
            "_view_module": "@jupyter-widgets/base",
            "_view_module_version": "1.2.0",
            "_view_name": "LayoutView",
            "align_content": null,
            "align_items": null,
            "align_self": null,
            "border": null,
            "bottom": null,
            "display": null,
            "flex": null,
            "flex_flow": null,
            "grid_area": null,
            "grid_auto_columns": null,
            "grid_auto_flow": null,
            "grid_auto_rows": null,
            "grid_column": null,
            "grid_gap": null,
            "grid_row": null,
            "grid_template_areas": null,
            "grid_template_columns": null,
            "grid_template_rows": null,
            "height": null,
            "justify_content": null,
            "justify_items": null,
            "left": null,
            "margin": null,
            "max_height": null,
            "max_width": null,
            "min_height": null,
            "min_width": null,
            "object_fit": null,
            "object_position": null,
            "order": null,
            "overflow": null,
            "overflow_x": null,
            "overflow_y": null,
            "padding": null,
            "right": null,
            "top": null,
            "visibility": null,
            "width": null
          }
        },
        "cae69524f8d64d989927b8b5b0e86a8e": {
          "model_module": "@jupyter-widgets/controls",
          "model_name": "ProgressStyleModel",
          "model_module_version": "1.5.0",
          "state": {
            "_model_module": "@jupyter-widgets/controls",
            "_model_module_version": "1.5.0",
            "_model_name": "ProgressStyleModel",
            "_view_count": null,
            "_view_module": "@jupyter-widgets/base",
            "_view_module_version": "1.2.0",
            "_view_name": "StyleView",
            "bar_color": null,
            "description_width": ""
          }
        },
        "64cba002491441d0b7b717e3fb70993c": {
          "model_module": "@jupyter-widgets/base",
          "model_name": "LayoutModel",
          "model_module_version": "1.2.0",
          "state": {
            "_model_module": "@jupyter-widgets/base",
            "_model_module_version": "1.2.0",
            "_model_name": "LayoutModel",
            "_view_count": null,
            "_view_module": "@jupyter-widgets/base",
            "_view_module_version": "1.2.0",
            "_view_name": "LayoutView",
            "align_content": null,
            "align_items": null,
            "align_self": null,
            "border": null,
            "bottom": null,
            "display": null,
            "flex": null,
            "flex_flow": null,
            "grid_area": null,
            "grid_auto_columns": null,
            "grid_auto_flow": null,
            "grid_auto_rows": null,
            "grid_column": null,
            "grid_gap": null,
            "grid_row": null,
            "grid_template_areas": null,
            "grid_template_columns": null,
            "grid_template_rows": null,
            "height": null,
            "justify_content": null,
            "justify_items": null,
            "left": null,
            "margin": null,
            "max_height": null,
            "max_width": null,
            "min_height": null,
            "min_width": null,
            "object_fit": null,
            "object_position": null,
            "order": null,
            "overflow": null,
            "overflow_x": null,
            "overflow_y": null,
            "padding": null,
            "right": null,
            "top": null,
            "visibility": null,
            "width": null
          }
        },
        "9c017471737c4f9eae131434503589d9": {
          "model_module": "@jupyter-widgets/controls",
          "model_name": "DescriptionStyleModel",
          "model_module_version": "1.5.0",
          "state": {
            "_model_module": "@jupyter-widgets/controls",
            "_model_module_version": "1.5.0",
            "_model_name": "DescriptionStyleModel",
            "_view_count": null,
            "_view_module": "@jupyter-widgets/base",
            "_view_module_version": "1.2.0",
            "_view_name": "StyleView",
            "description_width": ""
          }
        },
        "c28ee499010d414390a563b3e8b477a3": {
          "model_module": "@jupyter-widgets/controls",
          "model_name": "HBoxModel",
          "model_module_version": "1.5.0",
          "state": {
            "_dom_classes": [],
            "_model_module": "@jupyter-widgets/controls",
            "_model_module_version": "1.5.0",
            "_model_name": "HBoxModel",
            "_view_count": null,
            "_view_module": "@jupyter-widgets/controls",
            "_view_module_version": "1.5.0",
            "_view_name": "HBoxView",
            "box_style": "",
            "children": [
              "IPY_MODEL_dd31c21e860340cb87cdcf3974273938",
              "IPY_MODEL_5479f4b6cc174148adcb822ba9c3df54",
              "IPY_MODEL_6a481ad46976434a90e839b5c4227169"
            ],
            "layout": "IPY_MODEL_b383323688ff4337850fb53f71ee5773"
          }
        },
        "dd31c21e860340cb87cdcf3974273938": {
          "model_module": "@jupyter-widgets/controls",
          "model_name": "HTMLModel",
          "model_module_version": "1.5.0",
          "state": {
            "_dom_classes": [],
            "_model_module": "@jupyter-widgets/controls",
            "_model_module_version": "1.5.0",
            "_model_name": "HTMLModel",
            "_view_count": null,
            "_view_module": "@jupyter-widgets/controls",
            "_view_module_version": "1.5.0",
            "_view_name": "HTMLView",
            "description": "",
            "description_tooltip": null,
            "layout": "IPY_MODEL_8473100202d344e2b03aaaa53f08f0ff",
            "placeholder": "​",
            "style": "IPY_MODEL_e60ced4340cf4b14ac91b502a7a8e3c5",
            "value": "config.json: 100%"
          }
        },
        "5479f4b6cc174148adcb822ba9c3df54": {
          "model_module": "@jupyter-widgets/controls",
          "model_name": "FloatProgressModel",
          "model_module_version": "1.5.0",
          "state": {
            "_dom_classes": [],
            "_model_module": "@jupyter-widgets/controls",
            "_model_module_version": "1.5.0",
            "_model_name": "FloatProgressModel",
            "_view_count": null,
            "_view_module": "@jupyter-widgets/controls",
            "_view_module_version": "1.5.0",
            "_view_name": "ProgressView",
            "bar_style": "success",
            "description": "",
            "description_tooltip": null,
            "layout": "IPY_MODEL_5a3c85ca7a5947d98635808bdf81334f",
            "max": 570,
            "min": 0,
            "orientation": "horizontal",
            "style": "IPY_MODEL_749290566c3744008fd4fcead527aab3",
            "value": 570
          }
        },
        "6a481ad46976434a90e839b5c4227169": {
          "model_module": "@jupyter-widgets/controls",
          "model_name": "HTMLModel",
          "model_module_version": "1.5.0",
          "state": {
            "_dom_classes": [],
            "_model_module": "@jupyter-widgets/controls",
            "_model_module_version": "1.5.0",
            "_model_name": "HTMLModel",
            "_view_count": null,
            "_view_module": "@jupyter-widgets/controls",
            "_view_module_version": "1.5.0",
            "_view_name": "HTMLView",
            "description": "",
            "description_tooltip": null,
            "layout": "IPY_MODEL_eb31d0769830469aa0d2a322fb02a1b2",
            "placeholder": "​",
            "style": "IPY_MODEL_c9098b28a0234d8fa9debaea04654c24",
            "value": " 570/570 [00:00&lt;00:00, 39.1kB/s]"
          }
        },
        "b383323688ff4337850fb53f71ee5773": {
          "model_module": "@jupyter-widgets/base",
          "model_name": "LayoutModel",
          "model_module_version": "1.2.0",
          "state": {
            "_model_module": "@jupyter-widgets/base",
            "_model_module_version": "1.2.0",
            "_model_name": "LayoutModel",
            "_view_count": null,
            "_view_module": "@jupyter-widgets/base",
            "_view_module_version": "1.2.0",
            "_view_name": "LayoutView",
            "align_content": null,
            "align_items": null,
            "align_self": null,
            "border": null,
            "bottom": null,
            "display": null,
            "flex": null,
            "flex_flow": null,
            "grid_area": null,
            "grid_auto_columns": null,
            "grid_auto_flow": null,
            "grid_auto_rows": null,
            "grid_column": null,
            "grid_gap": null,
            "grid_row": null,
            "grid_template_areas": null,
            "grid_template_columns": null,
            "grid_template_rows": null,
            "height": null,
            "justify_content": null,
            "justify_items": null,
            "left": null,
            "margin": null,
            "max_height": null,
            "max_width": null,
            "min_height": null,
            "min_width": null,
            "object_fit": null,
            "object_position": null,
            "order": null,
            "overflow": null,
            "overflow_x": null,
            "overflow_y": null,
            "padding": null,
            "right": null,
            "top": null,
            "visibility": null,
            "width": null
          }
        },
        "8473100202d344e2b03aaaa53f08f0ff": {
          "model_module": "@jupyter-widgets/base",
          "model_name": "LayoutModel",
          "model_module_version": "1.2.0",
          "state": {
            "_model_module": "@jupyter-widgets/base",
            "_model_module_version": "1.2.0",
            "_model_name": "LayoutModel",
            "_view_count": null,
            "_view_module": "@jupyter-widgets/base",
            "_view_module_version": "1.2.0",
            "_view_name": "LayoutView",
            "align_content": null,
            "align_items": null,
            "align_self": null,
            "border": null,
            "bottom": null,
            "display": null,
            "flex": null,
            "flex_flow": null,
            "grid_area": null,
            "grid_auto_columns": null,
            "grid_auto_flow": null,
            "grid_auto_rows": null,
            "grid_column": null,
            "grid_gap": null,
            "grid_row": null,
            "grid_template_areas": null,
            "grid_template_columns": null,
            "grid_template_rows": null,
            "height": null,
            "justify_content": null,
            "justify_items": null,
            "left": null,
            "margin": null,
            "max_height": null,
            "max_width": null,
            "min_height": null,
            "min_width": null,
            "object_fit": null,
            "object_position": null,
            "order": null,
            "overflow": null,
            "overflow_x": null,
            "overflow_y": null,
            "padding": null,
            "right": null,
            "top": null,
            "visibility": null,
            "width": null
          }
        },
        "e60ced4340cf4b14ac91b502a7a8e3c5": {
          "model_module": "@jupyter-widgets/controls",
          "model_name": "DescriptionStyleModel",
          "model_module_version": "1.5.0",
          "state": {
            "_model_module": "@jupyter-widgets/controls",
            "_model_module_version": "1.5.0",
            "_model_name": "DescriptionStyleModel",
            "_view_count": null,
            "_view_module": "@jupyter-widgets/base",
            "_view_module_version": "1.2.0",
            "_view_name": "StyleView",
            "description_width": ""
          }
        },
        "5a3c85ca7a5947d98635808bdf81334f": {
          "model_module": "@jupyter-widgets/base",
          "model_name": "LayoutModel",
          "model_module_version": "1.2.0",
          "state": {
            "_model_module": "@jupyter-widgets/base",
            "_model_module_version": "1.2.0",
            "_model_name": "LayoutModel",
            "_view_count": null,
            "_view_module": "@jupyter-widgets/base",
            "_view_module_version": "1.2.0",
            "_view_name": "LayoutView",
            "align_content": null,
            "align_items": null,
            "align_self": null,
            "border": null,
            "bottom": null,
            "display": null,
            "flex": null,
            "flex_flow": null,
            "grid_area": null,
            "grid_auto_columns": null,
            "grid_auto_flow": null,
            "grid_auto_rows": null,
            "grid_column": null,
            "grid_gap": null,
            "grid_row": null,
            "grid_template_areas": null,
            "grid_template_columns": null,
            "grid_template_rows": null,
            "height": null,
            "justify_content": null,
            "justify_items": null,
            "left": null,
            "margin": null,
            "max_height": null,
            "max_width": null,
            "min_height": null,
            "min_width": null,
            "object_fit": null,
            "object_position": null,
            "order": null,
            "overflow": null,
            "overflow_x": null,
            "overflow_y": null,
            "padding": null,
            "right": null,
            "top": null,
            "visibility": null,
            "width": null
          }
        },
        "749290566c3744008fd4fcead527aab3": {
          "model_module": "@jupyter-widgets/controls",
          "model_name": "ProgressStyleModel",
          "model_module_version": "1.5.0",
          "state": {
            "_model_module": "@jupyter-widgets/controls",
            "_model_module_version": "1.5.0",
            "_model_name": "ProgressStyleModel",
            "_view_count": null,
            "_view_module": "@jupyter-widgets/base",
            "_view_module_version": "1.2.0",
            "_view_name": "StyleView",
            "bar_color": null,
            "description_width": ""
          }
        },
        "eb31d0769830469aa0d2a322fb02a1b2": {
          "model_module": "@jupyter-widgets/base",
          "model_name": "LayoutModel",
          "model_module_version": "1.2.0",
          "state": {
            "_model_module": "@jupyter-widgets/base",
            "_model_module_version": "1.2.0",
            "_model_name": "LayoutModel",
            "_view_count": null,
            "_view_module": "@jupyter-widgets/base",
            "_view_module_version": "1.2.0",
            "_view_name": "LayoutView",
            "align_content": null,
            "align_items": null,
            "align_self": null,
            "border": null,
            "bottom": null,
            "display": null,
            "flex": null,
            "flex_flow": null,
            "grid_area": null,
            "grid_auto_columns": null,
            "grid_auto_flow": null,
            "grid_auto_rows": null,
            "grid_column": null,
            "grid_gap": null,
            "grid_row": null,
            "grid_template_areas": null,
            "grid_template_columns": null,
            "grid_template_rows": null,
            "height": null,
            "justify_content": null,
            "justify_items": null,
            "left": null,
            "margin": null,
            "max_height": null,
            "max_width": null,
            "min_height": null,
            "min_width": null,
            "object_fit": null,
            "object_position": null,
            "order": null,
            "overflow": null,
            "overflow_x": null,
            "overflow_y": null,
            "padding": null,
            "right": null,
            "top": null,
            "visibility": null,
            "width": null
          }
        },
        "c9098b28a0234d8fa9debaea04654c24": {
          "model_module": "@jupyter-widgets/controls",
          "model_name": "DescriptionStyleModel",
          "model_module_version": "1.5.0",
          "state": {
            "_model_module": "@jupyter-widgets/controls",
            "_model_module_version": "1.5.0",
            "_model_name": "DescriptionStyleModel",
            "_view_count": null,
            "_view_module": "@jupyter-widgets/base",
            "_view_module_version": "1.2.0",
            "_view_name": "StyleView",
            "description_width": ""
          }
        },
        "12eac709d7304f94af02734e4f6466da": {
          "model_module": "@jupyter-widgets/controls",
          "model_name": "HBoxModel",
          "model_module_version": "1.5.0",
          "state": {
            "_dom_classes": [],
            "_model_module": "@jupyter-widgets/controls",
            "_model_module_version": "1.5.0",
            "_model_name": "HBoxModel",
            "_view_count": null,
            "_view_module": "@jupyter-widgets/controls",
            "_view_module_version": "1.5.0",
            "_view_name": "HBoxView",
            "box_style": "",
            "children": [
              "IPY_MODEL_b50d34df762a485fb199bd1ca8c30c2c",
              "IPY_MODEL_c761a1fc76024f4aa04d76a34236c336",
              "IPY_MODEL_028ca9d5b703416a92ac4bba3497d66a"
            ],
            "layout": "IPY_MODEL_01c961428f5f46faae4c378da143acd5"
          }
        },
        "b50d34df762a485fb199bd1ca8c30c2c": {
          "model_module": "@jupyter-widgets/controls",
          "model_name": "HTMLModel",
          "model_module_version": "1.5.0",
          "state": {
            "_dom_classes": [],
            "_model_module": "@jupyter-widgets/controls",
            "_model_module_version": "1.5.0",
            "_model_name": "HTMLModel",
            "_view_count": null,
            "_view_module": "@jupyter-widgets/controls",
            "_view_module_version": "1.5.0",
            "_view_name": "HTMLView",
            "description": "",
            "description_tooltip": null,
            "layout": "IPY_MODEL_7dea414347de4cca848fbd34796ae61c",
            "placeholder": "​",
            "style": "IPY_MODEL_ef63a227b3e04c568b2913280b447232",
            "value": "vocab.txt: 100%"
          }
        },
        "c761a1fc76024f4aa04d76a34236c336": {
          "model_module": "@jupyter-widgets/controls",
          "model_name": "FloatProgressModel",
          "model_module_version": "1.5.0",
          "state": {
            "_dom_classes": [],
            "_model_module": "@jupyter-widgets/controls",
            "_model_module_version": "1.5.0",
            "_model_name": "FloatProgressModel",
            "_view_count": null,
            "_view_module": "@jupyter-widgets/controls",
            "_view_module_version": "1.5.0",
            "_view_name": "ProgressView",
            "bar_style": "success",
            "description": "",
            "description_tooltip": null,
            "layout": "IPY_MODEL_4402165ef4024c37975a22ea5b12c02a",
            "max": 231508,
            "min": 0,
            "orientation": "horizontal",
            "style": "IPY_MODEL_1db553fd3ac14166b1af89084def4107",
            "value": 231508
          }
        },
        "028ca9d5b703416a92ac4bba3497d66a": {
          "model_module": "@jupyter-widgets/controls",
          "model_name": "HTMLModel",
          "model_module_version": "1.5.0",
          "state": {
            "_dom_classes": [],
            "_model_module": "@jupyter-widgets/controls",
            "_model_module_version": "1.5.0",
            "_model_name": "HTMLModel",
            "_view_count": null,
            "_view_module": "@jupyter-widgets/controls",
            "_view_module_version": "1.5.0",
            "_view_name": "HTMLView",
            "description": "",
            "description_tooltip": null,
            "layout": "IPY_MODEL_e54755954dc248ec811a3b62148c5748",
            "placeholder": "​",
            "style": "IPY_MODEL_28719a1b6a8a40ff940f4bbf9ade8ec5",
            "value": " 232k/232k [00:00&lt;00:00, 4.91MB/s]"
          }
        },
        "01c961428f5f46faae4c378da143acd5": {
          "model_module": "@jupyter-widgets/base",
          "model_name": "LayoutModel",
          "model_module_version": "1.2.0",
          "state": {
            "_model_module": "@jupyter-widgets/base",
            "_model_module_version": "1.2.0",
            "_model_name": "LayoutModel",
            "_view_count": null,
            "_view_module": "@jupyter-widgets/base",
            "_view_module_version": "1.2.0",
            "_view_name": "LayoutView",
            "align_content": null,
            "align_items": null,
            "align_self": null,
            "border": null,
            "bottom": null,
            "display": null,
            "flex": null,
            "flex_flow": null,
            "grid_area": null,
            "grid_auto_columns": null,
            "grid_auto_flow": null,
            "grid_auto_rows": null,
            "grid_column": null,
            "grid_gap": null,
            "grid_row": null,
            "grid_template_areas": null,
            "grid_template_columns": null,
            "grid_template_rows": null,
            "height": null,
            "justify_content": null,
            "justify_items": null,
            "left": null,
            "margin": null,
            "max_height": null,
            "max_width": null,
            "min_height": null,
            "min_width": null,
            "object_fit": null,
            "object_position": null,
            "order": null,
            "overflow": null,
            "overflow_x": null,
            "overflow_y": null,
            "padding": null,
            "right": null,
            "top": null,
            "visibility": null,
            "width": null
          }
        },
        "7dea414347de4cca848fbd34796ae61c": {
          "model_module": "@jupyter-widgets/base",
          "model_name": "LayoutModel",
          "model_module_version": "1.2.0",
          "state": {
            "_model_module": "@jupyter-widgets/base",
            "_model_module_version": "1.2.0",
            "_model_name": "LayoutModel",
            "_view_count": null,
            "_view_module": "@jupyter-widgets/base",
            "_view_module_version": "1.2.0",
            "_view_name": "LayoutView",
            "align_content": null,
            "align_items": null,
            "align_self": null,
            "border": null,
            "bottom": null,
            "display": null,
            "flex": null,
            "flex_flow": null,
            "grid_area": null,
            "grid_auto_columns": null,
            "grid_auto_flow": null,
            "grid_auto_rows": null,
            "grid_column": null,
            "grid_gap": null,
            "grid_row": null,
            "grid_template_areas": null,
            "grid_template_columns": null,
            "grid_template_rows": null,
            "height": null,
            "justify_content": null,
            "justify_items": null,
            "left": null,
            "margin": null,
            "max_height": null,
            "max_width": null,
            "min_height": null,
            "min_width": null,
            "object_fit": null,
            "object_position": null,
            "order": null,
            "overflow": null,
            "overflow_x": null,
            "overflow_y": null,
            "padding": null,
            "right": null,
            "top": null,
            "visibility": null,
            "width": null
          }
        },
        "ef63a227b3e04c568b2913280b447232": {
          "model_module": "@jupyter-widgets/controls",
          "model_name": "DescriptionStyleModel",
          "model_module_version": "1.5.0",
          "state": {
            "_model_module": "@jupyter-widgets/controls",
            "_model_module_version": "1.5.0",
            "_model_name": "DescriptionStyleModel",
            "_view_count": null,
            "_view_module": "@jupyter-widgets/base",
            "_view_module_version": "1.2.0",
            "_view_name": "StyleView",
            "description_width": ""
          }
        },
        "4402165ef4024c37975a22ea5b12c02a": {
          "model_module": "@jupyter-widgets/base",
          "model_name": "LayoutModel",
          "model_module_version": "1.2.0",
          "state": {
            "_model_module": "@jupyter-widgets/base",
            "_model_module_version": "1.2.0",
            "_model_name": "LayoutModel",
            "_view_count": null,
            "_view_module": "@jupyter-widgets/base",
            "_view_module_version": "1.2.0",
            "_view_name": "LayoutView",
            "align_content": null,
            "align_items": null,
            "align_self": null,
            "border": null,
            "bottom": null,
            "display": null,
            "flex": null,
            "flex_flow": null,
            "grid_area": null,
            "grid_auto_columns": null,
            "grid_auto_flow": null,
            "grid_auto_rows": null,
            "grid_column": null,
            "grid_gap": null,
            "grid_row": null,
            "grid_template_areas": null,
            "grid_template_columns": null,
            "grid_template_rows": null,
            "height": null,
            "justify_content": null,
            "justify_items": null,
            "left": null,
            "margin": null,
            "max_height": null,
            "max_width": null,
            "min_height": null,
            "min_width": null,
            "object_fit": null,
            "object_position": null,
            "order": null,
            "overflow": null,
            "overflow_x": null,
            "overflow_y": null,
            "padding": null,
            "right": null,
            "top": null,
            "visibility": null,
            "width": null
          }
        },
        "1db553fd3ac14166b1af89084def4107": {
          "model_module": "@jupyter-widgets/controls",
          "model_name": "ProgressStyleModel",
          "model_module_version": "1.5.0",
          "state": {
            "_model_module": "@jupyter-widgets/controls",
            "_model_module_version": "1.5.0",
            "_model_name": "ProgressStyleModel",
            "_view_count": null,
            "_view_module": "@jupyter-widgets/base",
            "_view_module_version": "1.2.0",
            "_view_name": "StyleView",
            "bar_color": null,
            "description_width": ""
          }
        },
        "e54755954dc248ec811a3b62148c5748": {
          "model_module": "@jupyter-widgets/base",
          "model_name": "LayoutModel",
          "model_module_version": "1.2.0",
          "state": {
            "_model_module": "@jupyter-widgets/base",
            "_model_module_version": "1.2.0",
            "_model_name": "LayoutModel",
            "_view_count": null,
            "_view_module": "@jupyter-widgets/base",
            "_view_module_version": "1.2.0",
            "_view_name": "LayoutView",
            "align_content": null,
            "align_items": null,
            "align_self": null,
            "border": null,
            "bottom": null,
            "display": null,
            "flex": null,
            "flex_flow": null,
            "grid_area": null,
            "grid_auto_columns": null,
            "grid_auto_flow": null,
            "grid_auto_rows": null,
            "grid_column": null,
            "grid_gap": null,
            "grid_row": null,
            "grid_template_areas": null,
            "grid_template_columns": null,
            "grid_template_rows": null,
            "height": null,
            "justify_content": null,
            "justify_items": null,
            "left": null,
            "margin": null,
            "max_height": null,
            "max_width": null,
            "min_height": null,
            "min_width": null,
            "object_fit": null,
            "object_position": null,
            "order": null,
            "overflow": null,
            "overflow_x": null,
            "overflow_y": null,
            "padding": null,
            "right": null,
            "top": null,
            "visibility": null,
            "width": null
          }
        },
        "28719a1b6a8a40ff940f4bbf9ade8ec5": {
          "model_module": "@jupyter-widgets/controls",
          "model_name": "DescriptionStyleModel",
          "model_module_version": "1.5.0",
          "state": {
            "_model_module": "@jupyter-widgets/controls",
            "_model_module_version": "1.5.0",
            "_model_name": "DescriptionStyleModel",
            "_view_count": null,
            "_view_module": "@jupyter-widgets/base",
            "_view_module_version": "1.2.0",
            "_view_name": "StyleView",
            "description_width": ""
          }
        },
        "c4554069775944a2a0be07120f71f1bd": {
          "model_module": "@jupyter-widgets/controls",
          "model_name": "HBoxModel",
          "model_module_version": "1.5.0",
          "state": {
            "_dom_classes": [],
            "_model_module": "@jupyter-widgets/controls",
            "_model_module_version": "1.5.0",
            "_model_name": "HBoxModel",
            "_view_count": null,
            "_view_module": "@jupyter-widgets/controls",
            "_view_module_version": "1.5.0",
            "_view_name": "HBoxView",
            "box_style": "",
            "children": [
              "IPY_MODEL_e09c03889af94b4595fc36589c773c7d",
              "IPY_MODEL_f8324e3e0e6344cb9cd5fd3529a57a48",
              "IPY_MODEL_11fd20f235a740c08f6c946b4380d9c8"
            ],
            "layout": "IPY_MODEL_c10831574fef4b639349539b8ce4d1b0"
          }
        },
        "e09c03889af94b4595fc36589c773c7d": {
          "model_module": "@jupyter-widgets/controls",
          "model_name": "HTMLModel",
          "model_module_version": "1.5.0",
          "state": {
            "_dom_classes": [],
            "_model_module": "@jupyter-widgets/controls",
            "_model_module_version": "1.5.0",
            "_model_name": "HTMLModel",
            "_view_count": null,
            "_view_module": "@jupyter-widgets/controls",
            "_view_module_version": "1.5.0",
            "_view_name": "HTMLView",
            "description": "",
            "description_tooltip": null,
            "layout": "IPY_MODEL_520dc5f78eda4f8090145eaf4ba740a3",
            "placeholder": "​",
            "style": "IPY_MODEL_1c53620baa5049bab03da4e8504280c1",
            "value": "tokenizer.json: 100%"
          }
        },
        "f8324e3e0e6344cb9cd5fd3529a57a48": {
          "model_module": "@jupyter-widgets/controls",
          "model_name": "FloatProgressModel",
          "model_module_version": "1.5.0",
          "state": {
            "_dom_classes": [],
            "_model_module": "@jupyter-widgets/controls",
            "_model_module_version": "1.5.0",
            "_model_name": "FloatProgressModel",
            "_view_count": null,
            "_view_module": "@jupyter-widgets/controls",
            "_view_module_version": "1.5.0",
            "_view_name": "ProgressView",
            "bar_style": "success",
            "description": "",
            "description_tooltip": null,
            "layout": "IPY_MODEL_072ba76b912d4ab9b32fa932d592efee",
            "max": 466062,
            "min": 0,
            "orientation": "horizontal",
            "style": "IPY_MODEL_1b9d43ff69914137b981ae4ae9b3564e",
            "value": 466062
          }
        },
        "11fd20f235a740c08f6c946b4380d9c8": {
          "model_module": "@jupyter-widgets/controls",
          "model_name": "HTMLModel",
          "model_module_version": "1.5.0",
          "state": {
            "_dom_classes": [],
            "_model_module": "@jupyter-widgets/controls",
            "_model_module_version": "1.5.0",
            "_model_name": "HTMLModel",
            "_view_count": null,
            "_view_module": "@jupyter-widgets/controls",
            "_view_module_version": "1.5.0",
            "_view_name": "HTMLView",
            "description": "",
            "description_tooltip": null,
            "layout": "IPY_MODEL_2fb622ebab9947c29cb6b61f80d87588",
            "placeholder": "​",
            "style": "IPY_MODEL_4d88d656364a46ffa6d1fd4babc17ef1",
            "value": " 466k/466k [00:00&lt;00:00, 30.2MB/s]"
          }
        },
        "c10831574fef4b639349539b8ce4d1b0": {
          "model_module": "@jupyter-widgets/base",
          "model_name": "LayoutModel",
          "model_module_version": "1.2.0",
          "state": {
            "_model_module": "@jupyter-widgets/base",
            "_model_module_version": "1.2.0",
            "_model_name": "LayoutModel",
            "_view_count": null,
            "_view_module": "@jupyter-widgets/base",
            "_view_module_version": "1.2.0",
            "_view_name": "LayoutView",
            "align_content": null,
            "align_items": null,
            "align_self": null,
            "border": null,
            "bottom": null,
            "display": null,
            "flex": null,
            "flex_flow": null,
            "grid_area": null,
            "grid_auto_columns": null,
            "grid_auto_flow": null,
            "grid_auto_rows": null,
            "grid_column": null,
            "grid_gap": null,
            "grid_row": null,
            "grid_template_areas": null,
            "grid_template_columns": null,
            "grid_template_rows": null,
            "height": null,
            "justify_content": null,
            "justify_items": null,
            "left": null,
            "margin": null,
            "max_height": null,
            "max_width": null,
            "min_height": null,
            "min_width": null,
            "object_fit": null,
            "object_position": null,
            "order": null,
            "overflow": null,
            "overflow_x": null,
            "overflow_y": null,
            "padding": null,
            "right": null,
            "top": null,
            "visibility": null,
            "width": null
          }
        },
        "520dc5f78eda4f8090145eaf4ba740a3": {
          "model_module": "@jupyter-widgets/base",
          "model_name": "LayoutModel",
          "model_module_version": "1.2.0",
          "state": {
            "_model_module": "@jupyter-widgets/base",
            "_model_module_version": "1.2.0",
            "_model_name": "LayoutModel",
            "_view_count": null,
            "_view_module": "@jupyter-widgets/base",
            "_view_module_version": "1.2.0",
            "_view_name": "LayoutView",
            "align_content": null,
            "align_items": null,
            "align_self": null,
            "border": null,
            "bottom": null,
            "display": null,
            "flex": null,
            "flex_flow": null,
            "grid_area": null,
            "grid_auto_columns": null,
            "grid_auto_flow": null,
            "grid_auto_rows": null,
            "grid_column": null,
            "grid_gap": null,
            "grid_row": null,
            "grid_template_areas": null,
            "grid_template_columns": null,
            "grid_template_rows": null,
            "height": null,
            "justify_content": null,
            "justify_items": null,
            "left": null,
            "margin": null,
            "max_height": null,
            "max_width": null,
            "min_height": null,
            "min_width": null,
            "object_fit": null,
            "object_position": null,
            "order": null,
            "overflow": null,
            "overflow_x": null,
            "overflow_y": null,
            "padding": null,
            "right": null,
            "top": null,
            "visibility": null,
            "width": null
          }
        },
        "1c53620baa5049bab03da4e8504280c1": {
          "model_module": "@jupyter-widgets/controls",
          "model_name": "DescriptionStyleModel",
          "model_module_version": "1.5.0",
          "state": {
            "_model_module": "@jupyter-widgets/controls",
            "_model_module_version": "1.5.0",
            "_model_name": "DescriptionStyleModel",
            "_view_count": null,
            "_view_module": "@jupyter-widgets/base",
            "_view_module_version": "1.2.0",
            "_view_name": "StyleView",
            "description_width": ""
          }
        },
        "072ba76b912d4ab9b32fa932d592efee": {
          "model_module": "@jupyter-widgets/base",
          "model_name": "LayoutModel",
          "model_module_version": "1.2.0",
          "state": {
            "_model_module": "@jupyter-widgets/base",
            "_model_module_version": "1.2.0",
            "_model_name": "LayoutModel",
            "_view_count": null,
            "_view_module": "@jupyter-widgets/base",
            "_view_module_version": "1.2.0",
            "_view_name": "LayoutView",
            "align_content": null,
            "align_items": null,
            "align_self": null,
            "border": null,
            "bottom": null,
            "display": null,
            "flex": null,
            "flex_flow": null,
            "grid_area": null,
            "grid_auto_columns": null,
            "grid_auto_flow": null,
            "grid_auto_rows": null,
            "grid_column": null,
            "grid_gap": null,
            "grid_row": null,
            "grid_template_areas": null,
            "grid_template_columns": null,
            "grid_template_rows": null,
            "height": null,
            "justify_content": null,
            "justify_items": null,
            "left": null,
            "margin": null,
            "max_height": null,
            "max_width": null,
            "min_height": null,
            "min_width": null,
            "object_fit": null,
            "object_position": null,
            "order": null,
            "overflow": null,
            "overflow_x": null,
            "overflow_y": null,
            "padding": null,
            "right": null,
            "top": null,
            "visibility": null,
            "width": null
          }
        },
        "1b9d43ff69914137b981ae4ae9b3564e": {
          "model_module": "@jupyter-widgets/controls",
          "model_name": "ProgressStyleModel",
          "model_module_version": "1.5.0",
          "state": {
            "_model_module": "@jupyter-widgets/controls",
            "_model_module_version": "1.5.0",
            "_model_name": "ProgressStyleModel",
            "_view_count": null,
            "_view_module": "@jupyter-widgets/base",
            "_view_module_version": "1.2.0",
            "_view_name": "StyleView",
            "bar_color": null,
            "description_width": ""
          }
        },
        "2fb622ebab9947c29cb6b61f80d87588": {
          "model_module": "@jupyter-widgets/base",
          "model_name": "LayoutModel",
          "model_module_version": "1.2.0",
          "state": {
            "_model_module": "@jupyter-widgets/base",
            "_model_module_version": "1.2.0",
            "_model_name": "LayoutModel",
            "_view_count": null,
            "_view_module": "@jupyter-widgets/base",
            "_view_module_version": "1.2.0",
            "_view_name": "LayoutView",
            "align_content": null,
            "align_items": null,
            "align_self": null,
            "border": null,
            "bottom": null,
            "display": null,
            "flex": null,
            "flex_flow": null,
            "grid_area": null,
            "grid_auto_columns": null,
            "grid_auto_flow": null,
            "grid_auto_rows": null,
            "grid_column": null,
            "grid_gap": null,
            "grid_row": null,
            "grid_template_areas": null,
            "grid_template_columns": null,
            "grid_template_rows": null,
            "height": null,
            "justify_content": null,
            "justify_items": null,
            "left": null,
            "margin": null,
            "max_height": null,
            "max_width": null,
            "min_height": null,
            "min_width": null,
            "object_fit": null,
            "object_position": null,
            "order": null,
            "overflow": null,
            "overflow_x": null,
            "overflow_y": null,
            "padding": null,
            "right": null,
            "top": null,
            "visibility": null,
            "width": null
          }
        },
        "4d88d656364a46ffa6d1fd4babc17ef1": {
          "model_module": "@jupyter-widgets/controls",
          "model_name": "DescriptionStyleModel",
          "model_module_version": "1.5.0",
          "state": {
            "_model_module": "@jupyter-widgets/controls",
            "_model_module_version": "1.5.0",
            "_model_name": "DescriptionStyleModel",
            "_view_count": null,
            "_view_module": "@jupyter-widgets/base",
            "_view_module_version": "1.2.0",
            "_view_name": "StyleView",
            "description_width": ""
          }
        },
        "820ff92b0f0b48f3ae8124f50c248c9a": {
          "model_module": "@jupyter-widgets/controls",
          "model_name": "HBoxModel",
          "model_module_version": "1.5.0",
          "state": {
            "_dom_classes": [],
            "_model_module": "@jupyter-widgets/controls",
            "_model_module_version": "1.5.0",
            "_model_name": "HBoxModel",
            "_view_count": null,
            "_view_module": "@jupyter-widgets/controls",
            "_view_module_version": "1.5.0",
            "_view_name": "HBoxView",
            "box_style": "",
            "children": [
              "IPY_MODEL_3dd0a4719bc547ae962362bfbb4dccea",
              "IPY_MODEL_c67ff9f3cd1646ca892551872fbc60e3",
              "IPY_MODEL_1f0de40bd0814f6fb6c0314d1eb6cf62"
            ],
            "layout": "IPY_MODEL_e04b49123d47484692b11be43bc99126"
          }
        },
        "3dd0a4719bc547ae962362bfbb4dccea": {
          "model_module": "@jupyter-widgets/controls",
          "model_name": "HTMLModel",
          "model_module_version": "1.5.0",
          "state": {
            "_dom_classes": [],
            "_model_module": "@jupyter-widgets/controls",
            "_model_module_version": "1.5.0",
            "_model_name": "HTMLModel",
            "_view_count": null,
            "_view_module": "@jupyter-widgets/controls",
            "_view_module_version": "1.5.0",
            "_view_name": "HTMLView",
            "description": "",
            "description_tooltip": null,
            "layout": "IPY_MODEL_92bcd127ff374613b0b38a31ea481564",
            "placeholder": "​",
            "style": "IPY_MODEL_e6e4b7e132044dbab1904841d797bcc0",
            "value": "model.safetensors: 100%"
          }
        },
        "c67ff9f3cd1646ca892551872fbc60e3": {
          "model_module": "@jupyter-widgets/controls",
          "model_name": "FloatProgressModel",
          "model_module_version": "1.5.0",
          "state": {
            "_dom_classes": [],
            "_model_module": "@jupyter-widgets/controls",
            "_model_module_version": "1.5.0",
            "_model_name": "FloatProgressModel",
            "_view_count": null,
            "_view_module": "@jupyter-widgets/controls",
            "_view_module_version": "1.5.0",
            "_view_name": "ProgressView",
            "bar_style": "success",
            "description": "",
            "description_tooltip": null,
            "layout": "IPY_MODEL_6b3e73f9089c43afbf96a8d846c2af5e",
            "max": 440449768,
            "min": 0,
            "orientation": "horizontal",
            "style": "IPY_MODEL_c9f223d15ccb4fd88b8cb503235490ea",
            "value": 440449768
          }
        },
        "1f0de40bd0814f6fb6c0314d1eb6cf62": {
          "model_module": "@jupyter-widgets/controls",
          "model_name": "HTMLModel",
          "model_module_version": "1.5.0",
          "state": {
            "_dom_classes": [],
            "_model_module": "@jupyter-widgets/controls",
            "_model_module_version": "1.5.0",
            "_model_name": "HTMLModel",
            "_view_count": null,
            "_view_module": "@jupyter-widgets/controls",
            "_view_module_version": "1.5.0",
            "_view_name": "HTMLView",
            "description": "",
            "description_tooltip": null,
            "layout": "IPY_MODEL_d1c8221204ad441dbd4f0ad8994dc7c2",
            "placeholder": "​",
            "style": "IPY_MODEL_a9a91b40b7b84a39b3cea5988719e391",
            "value": " 440M/440M [00:05&lt;00:00, 150MB/s]"
          }
        },
        "e04b49123d47484692b11be43bc99126": {
          "model_module": "@jupyter-widgets/base",
          "model_name": "LayoutModel",
          "model_module_version": "1.2.0",
          "state": {
            "_model_module": "@jupyter-widgets/base",
            "_model_module_version": "1.2.0",
            "_model_name": "LayoutModel",
            "_view_count": null,
            "_view_module": "@jupyter-widgets/base",
            "_view_module_version": "1.2.0",
            "_view_name": "LayoutView",
            "align_content": null,
            "align_items": null,
            "align_self": null,
            "border": null,
            "bottom": null,
            "display": null,
            "flex": null,
            "flex_flow": null,
            "grid_area": null,
            "grid_auto_columns": null,
            "grid_auto_flow": null,
            "grid_auto_rows": null,
            "grid_column": null,
            "grid_gap": null,
            "grid_row": null,
            "grid_template_areas": null,
            "grid_template_columns": null,
            "grid_template_rows": null,
            "height": null,
            "justify_content": null,
            "justify_items": null,
            "left": null,
            "margin": null,
            "max_height": null,
            "max_width": null,
            "min_height": null,
            "min_width": null,
            "object_fit": null,
            "object_position": null,
            "order": null,
            "overflow": null,
            "overflow_x": null,
            "overflow_y": null,
            "padding": null,
            "right": null,
            "top": null,
            "visibility": null,
            "width": null
          }
        },
        "92bcd127ff374613b0b38a31ea481564": {
          "model_module": "@jupyter-widgets/base",
          "model_name": "LayoutModel",
          "model_module_version": "1.2.0",
          "state": {
            "_model_module": "@jupyter-widgets/base",
            "_model_module_version": "1.2.0",
            "_model_name": "LayoutModel",
            "_view_count": null,
            "_view_module": "@jupyter-widgets/base",
            "_view_module_version": "1.2.0",
            "_view_name": "LayoutView",
            "align_content": null,
            "align_items": null,
            "align_self": null,
            "border": null,
            "bottom": null,
            "display": null,
            "flex": null,
            "flex_flow": null,
            "grid_area": null,
            "grid_auto_columns": null,
            "grid_auto_flow": null,
            "grid_auto_rows": null,
            "grid_column": null,
            "grid_gap": null,
            "grid_row": null,
            "grid_template_areas": null,
            "grid_template_columns": null,
            "grid_template_rows": null,
            "height": null,
            "justify_content": null,
            "justify_items": null,
            "left": null,
            "margin": null,
            "max_height": null,
            "max_width": null,
            "min_height": null,
            "min_width": null,
            "object_fit": null,
            "object_position": null,
            "order": null,
            "overflow": null,
            "overflow_x": null,
            "overflow_y": null,
            "padding": null,
            "right": null,
            "top": null,
            "visibility": null,
            "width": null
          }
        },
        "e6e4b7e132044dbab1904841d797bcc0": {
          "model_module": "@jupyter-widgets/controls",
          "model_name": "DescriptionStyleModel",
          "model_module_version": "1.5.0",
          "state": {
            "_model_module": "@jupyter-widgets/controls",
            "_model_module_version": "1.5.0",
            "_model_name": "DescriptionStyleModel",
            "_view_count": null,
            "_view_module": "@jupyter-widgets/base",
            "_view_module_version": "1.2.0",
            "_view_name": "StyleView",
            "description_width": ""
          }
        },
        "6b3e73f9089c43afbf96a8d846c2af5e": {
          "model_module": "@jupyter-widgets/base",
          "model_name": "LayoutModel",
          "model_module_version": "1.2.0",
          "state": {
            "_model_module": "@jupyter-widgets/base",
            "_model_module_version": "1.2.0",
            "_model_name": "LayoutModel",
            "_view_count": null,
            "_view_module": "@jupyter-widgets/base",
            "_view_module_version": "1.2.0",
            "_view_name": "LayoutView",
            "align_content": null,
            "align_items": null,
            "align_self": null,
            "border": null,
            "bottom": null,
            "display": null,
            "flex": null,
            "flex_flow": null,
            "grid_area": null,
            "grid_auto_columns": null,
            "grid_auto_flow": null,
            "grid_auto_rows": null,
            "grid_column": null,
            "grid_gap": null,
            "grid_row": null,
            "grid_template_areas": null,
            "grid_template_columns": null,
            "grid_template_rows": null,
            "height": null,
            "justify_content": null,
            "justify_items": null,
            "left": null,
            "margin": null,
            "max_height": null,
            "max_width": null,
            "min_height": null,
            "min_width": null,
            "object_fit": null,
            "object_position": null,
            "order": null,
            "overflow": null,
            "overflow_x": null,
            "overflow_y": null,
            "padding": null,
            "right": null,
            "top": null,
            "visibility": null,
            "width": null
          }
        },
        "c9f223d15ccb4fd88b8cb503235490ea": {
          "model_module": "@jupyter-widgets/controls",
          "model_name": "ProgressStyleModel",
          "model_module_version": "1.5.0",
          "state": {
            "_model_module": "@jupyter-widgets/controls",
            "_model_module_version": "1.5.0",
            "_model_name": "ProgressStyleModel",
            "_view_count": null,
            "_view_module": "@jupyter-widgets/base",
            "_view_module_version": "1.2.0",
            "_view_name": "StyleView",
            "bar_color": null,
            "description_width": ""
          }
        },
        "d1c8221204ad441dbd4f0ad8994dc7c2": {
          "model_module": "@jupyter-widgets/base",
          "model_name": "LayoutModel",
          "model_module_version": "1.2.0",
          "state": {
            "_model_module": "@jupyter-widgets/base",
            "_model_module_version": "1.2.0",
            "_model_name": "LayoutModel",
            "_view_count": null,
            "_view_module": "@jupyter-widgets/base",
            "_view_module_version": "1.2.0",
            "_view_name": "LayoutView",
            "align_content": null,
            "align_items": null,
            "align_self": null,
            "border": null,
            "bottom": null,
            "display": null,
            "flex": null,
            "flex_flow": null,
            "grid_area": null,
            "grid_auto_columns": null,
            "grid_auto_flow": null,
            "grid_auto_rows": null,
            "grid_column": null,
            "grid_gap": null,
            "grid_row": null,
            "grid_template_areas": null,
            "grid_template_columns": null,
            "grid_template_rows": null,
            "height": null,
            "justify_content": null,
            "justify_items": null,
            "left": null,
            "margin": null,
            "max_height": null,
            "max_width": null,
            "min_height": null,
            "min_width": null,
            "object_fit": null,
            "object_position": null,
            "order": null,
            "overflow": null,
            "overflow_x": null,
            "overflow_y": null,
            "padding": null,
            "right": null,
            "top": null,
            "visibility": null,
            "width": null
          }
        },
        "a9a91b40b7b84a39b3cea5988719e391": {
          "model_module": "@jupyter-widgets/controls",
          "model_name": "DescriptionStyleModel",
          "model_module_version": "1.5.0",
          "state": {
            "_model_module": "@jupyter-widgets/controls",
            "_model_module_version": "1.5.0",
            "_model_name": "DescriptionStyleModel",
            "_view_count": null,
            "_view_module": "@jupyter-widgets/base",
            "_view_module_version": "1.2.0",
            "_view_name": "StyleView",
            "description_width": ""
          }
        },
        "de5b6a95dc29408ba02fbe14c886f6ab": {
          "model_module": "@jupyter-widgets/controls",
          "model_name": "HBoxModel",
          "model_module_version": "1.5.0",
          "state": {
            "_dom_classes": [],
            "_model_module": "@jupyter-widgets/controls",
            "_model_module_version": "1.5.0",
            "_model_name": "HBoxModel",
            "_view_count": null,
            "_view_module": "@jupyter-widgets/controls",
            "_view_module_version": "1.5.0",
            "_view_name": "HBoxView",
            "box_style": "",
            "children": [
              "IPY_MODEL_d0d1f597fe084c17a4c6d454ad10a80d",
              "IPY_MODEL_b2ce00758b964e75a95148d9bf3268c9",
              "IPY_MODEL_cdc724f2695d4f048f57ae342a3de4b2"
            ],
            "layout": "IPY_MODEL_d8312ff6b4f04026b0139c4dfa6a2b07"
          }
        },
        "d0d1f597fe084c17a4c6d454ad10a80d": {
          "model_module": "@jupyter-widgets/controls",
          "model_name": "HTMLModel",
          "model_module_version": "1.5.0",
          "state": {
            "_dom_classes": [],
            "_model_module": "@jupyter-widgets/controls",
            "_model_module_version": "1.5.0",
            "_model_name": "HTMLModel",
            "_view_count": null,
            "_view_module": "@jupyter-widgets/controls",
            "_view_module_version": "1.5.0",
            "_view_name": "HTMLView",
            "description": "",
            "description_tooltip": null,
            "layout": "IPY_MODEL_523fa7c6074f45fb80db59b91d32cc0c",
            "placeholder": "​",
            "style": "IPY_MODEL_184d81b5ad6f4100b9eeba7ae90665d7",
            "value": "Downloading builder script: 100%"
          }
        },
        "b2ce00758b964e75a95148d9bf3268c9": {
          "model_module": "@jupyter-widgets/controls",
          "model_name": "FloatProgressModel",
          "model_module_version": "1.5.0",
          "state": {
            "_dom_classes": [],
            "_model_module": "@jupyter-widgets/controls",
            "_model_module_version": "1.5.0",
            "_model_name": "FloatProgressModel",
            "_view_count": null,
            "_view_module": "@jupyter-widgets/controls",
            "_view_module_version": "1.5.0",
            "_view_name": "ProgressView",
            "bar_style": "success",
            "description": "",
            "description_tooltip": null,
            "layout": "IPY_MODEL_6c757487bfed4d738bd35e4fbf4dbfa1",
            "max": 4203,
            "min": 0,
            "orientation": "horizontal",
            "style": "IPY_MODEL_2399262e77424eada1341e6f65b0e7aa",
            "value": 4203
          }
        },
        "cdc724f2695d4f048f57ae342a3de4b2": {
          "model_module": "@jupyter-widgets/controls",
          "model_name": "HTMLModel",
          "model_module_version": "1.5.0",
          "state": {
            "_dom_classes": [],
            "_model_module": "@jupyter-widgets/controls",
            "_model_module_version": "1.5.0",
            "_model_name": "HTMLModel",
            "_view_count": null,
            "_view_module": "@jupyter-widgets/controls",
            "_view_module_version": "1.5.0",
            "_view_name": "HTMLView",
            "description": "",
            "description_tooltip": null,
            "layout": "IPY_MODEL_1cca2df6f2a94e7ea2210760d4cfce63",
            "placeholder": "​",
            "style": "IPY_MODEL_84b5acff07a14637954d7f42fea9b5a8",
            "value": " 4.20k/4.20k [00:00&lt;00:00, 58.9kB/s]"
          }
        },
        "d8312ff6b4f04026b0139c4dfa6a2b07": {
          "model_module": "@jupyter-widgets/base",
          "model_name": "LayoutModel",
          "model_module_version": "1.2.0",
          "state": {
            "_model_module": "@jupyter-widgets/base",
            "_model_module_version": "1.2.0",
            "_model_name": "LayoutModel",
            "_view_count": null,
            "_view_module": "@jupyter-widgets/base",
            "_view_module_version": "1.2.0",
            "_view_name": "LayoutView",
            "align_content": null,
            "align_items": null,
            "align_self": null,
            "border": null,
            "bottom": null,
            "display": null,
            "flex": null,
            "flex_flow": null,
            "grid_area": null,
            "grid_auto_columns": null,
            "grid_auto_flow": null,
            "grid_auto_rows": null,
            "grid_column": null,
            "grid_gap": null,
            "grid_row": null,
            "grid_template_areas": null,
            "grid_template_columns": null,
            "grid_template_rows": null,
            "height": null,
            "justify_content": null,
            "justify_items": null,
            "left": null,
            "margin": null,
            "max_height": null,
            "max_width": null,
            "min_height": null,
            "min_width": null,
            "object_fit": null,
            "object_position": null,
            "order": null,
            "overflow": null,
            "overflow_x": null,
            "overflow_y": null,
            "padding": null,
            "right": null,
            "top": null,
            "visibility": null,
            "width": null
          }
        },
        "523fa7c6074f45fb80db59b91d32cc0c": {
          "model_module": "@jupyter-widgets/base",
          "model_name": "LayoutModel",
          "model_module_version": "1.2.0",
          "state": {
            "_model_module": "@jupyter-widgets/base",
            "_model_module_version": "1.2.0",
            "_model_name": "LayoutModel",
            "_view_count": null,
            "_view_module": "@jupyter-widgets/base",
            "_view_module_version": "1.2.0",
            "_view_name": "LayoutView",
            "align_content": null,
            "align_items": null,
            "align_self": null,
            "border": null,
            "bottom": null,
            "display": null,
            "flex": null,
            "flex_flow": null,
            "grid_area": null,
            "grid_auto_columns": null,
            "grid_auto_flow": null,
            "grid_auto_rows": null,
            "grid_column": null,
            "grid_gap": null,
            "grid_row": null,
            "grid_template_areas": null,
            "grid_template_columns": null,
            "grid_template_rows": null,
            "height": null,
            "justify_content": null,
            "justify_items": null,
            "left": null,
            "margin": null,
            "max_height": null,
            "max_width": null,
            "min_height": null,
            "min_width": null,
            "object_fit": null,
            "object_position": null,
            "order": null,
            "overflow": null,
            "overflow_x": null,
            "overflow_y": null,
            "padding": null,
            "right": null,
            "top": null,
            "visibility": null,
            "width": null
          }
        },
        "184d81b5ad6f4100b9eeba7ae90665d7": {
          "model_module": "@jupyter-widgets/controls",
          "model_name": "DescriptionStyleModel",
          "model_module_version": "1.5.0",
          "state": {
            "_model_module": "@jupyter-widgets/controls",
            "_model_module_version": "1.5.0",
            "_model_name": "DescriptionStyleModel",
            "_view_count": null,
            "_view_module": "@jupyter-widgets/base",
            "_view_module_version": "1.2.0",
            "_view_name": "StyleView",
            "description_width": ""
          }
        },
        "6c757487bfed4d738bd35e4fbf4dbfa1": {
          "model_module": "@jupyter-widgets/base",
          "model_name": "LayoutModel",
          "model_module_version": "1.2.0",
          "state": {
            "_model_module": "@jupyter-widgets/base",
            "_model_module_version": "1.2.0",
            "_model_name": "LayoutModel",
            "_view_count": null,
            "_view_module": "@jupyter-widgets/base",
            "_view_module_version": "1.2.0",
            "_view_name": "LayoutView",
            "align_content": null,
            "align_items": null,
            "align_self": null,
            "border": null,
            "bottom": null,
            "display": null,
            "flex": null,
            "flex_flow": null,
            "grid_area": null,
            "grid_auto_columns": null,
            "grid_auto_flow": null,
            "grid_auto_rows": null,
            "grid_column": null,
            "grid_gap": null,
            "grid_row": null,
            "grid_template_areas": null,
            "grid_template_columns": null,
            "grid_template_rows": null,
            "height": null,
            "justify_content": null,
            "justify_items": null,
            "left": null,
            "margin": null,
            "max_height": null,
            "max_width": null,
            "min_height": null,
            "min_width": null,
            "object_fit": null,
            "object_position": null,
            "order": null,
            "overflow": null,
            "overflow_x": null,
            "overflow_y": null,
            "padding": null,
            "right": null,
            "top": null,
            "visibility": null,
            "width": null
          }
        },
        "2399262e77424eada1341e6f65b0e7aa": {
          "model_module": "@jupyter-widgets/controls",
          "model_name": "ProgressStyleModel",
          "model_module_version": "1.5.0",
          "state": {
            "_model_module": "@jupyter-widgets/controls",
            "_model_module_version": "1.5.0",
            "_model_name": "ProgressStyleModel",
            "_view_count": null,
            "_view_module": "@jupyter-widgets/base",
            "_view_module_version": "1.2.0",
            "_view_name": "StyleView",
            "bar_color": null,
            "description_width": ""
          }
        },
        "1cca2df6f2a94e7ea2210760d4cfce63": {
          "model_module": "@jupyter-widgets/base",
          "model_name": "LayoutModel",
          "model_module_version": "1.2.0",
          "state": {
            "_model_module": "@jupyter-widgets/base",
            "_model_module_version": "1.2.0",
            "_model_name": "LayoutModel",
            "_view_count": null,
            "_view_module": "@jupyter-widgets/base",
            "_view_module_version": "1.2.0",
            "_view_name": "LayoutView",
            "align_content": null,
            "align_items": null,
            "align_self": null,
            "border": null,
            "bottom": null,
            "display": null,
            "flex": null,
            "flex_flow": null,
            "grid_area": null,
            "grid_auto_columns": null,
            "grid_auto_flow": null,
            "grid_auto_rows": null,
            "grid_column": null,
            "grid_gap": null,
            "grid_row": null,
            "grid_template_areas": null,
            "grid_template_columns": null,
            "grid_template_rows": null,
            "height": null,
            "justify_content": null,
            "justify_items": null,
            "left": null,
            "margin": null,
            "max_height": null,
            "max_width": null,
            "min_height": null,
            "min_width": null,
            "object_fit": null,
            "object_position": null,
            "order": null,
            "overflow": null,
            "overflow_x": null,
            "overflow_y": null,
            "padding": null,
            "right": null,
            "top": null,
            "visibility": null,
            "width": null
          }
        },
        "84b5acff07a14637954d7f42fea9b5a8": {
          "model_module": "@jupyter-widgets/controls",
          "model_name": "DescriptionStyleModel",
          "model_module_version": "1.5.0",
          "state": {
            "_model_module": "@jupyter-widgets/controls",
            "_model_module_version": "1.5.0",
            "_model_name": "DescriptionStyleModel",
            "_view_count": null,
            "_view_module": "@jupyter-widgets/base",
            "_view_module_version": "1.2.0",
            "_view_name": "StyleView",
            "description_width": ""
          }
        },
        "8742dafa2cf9487ea7348a38cf2235cd": {
          "model_module": "@jupyter-widgets/controls",
          "model_name": "HBoxModel",
          "model_module_version": "1.5.0",
          "state": {
            "_dom_classes": [],
            "_model_module": "@jupyter-widgets/controls",
            "_model_module_version": "1.5.0",
            "_model_name": "HBoxModel",
            "_view_count": null,
            "_view_module": "@jupyter-widgets/controls",
            "_view_module_version": "1.5.0",
            "_view_name": "HBoxView",
            "box_style": "",
            "children": [
              "IPY_MODEL_04e7326cdc3142b786df4f5a25a961e9",
              "IPY_MODEL_ab39d77f63a74bfa926a3921a71ff109",
              "IPY_MODEL_678a661b66ff49f393e22696732daed2"
            ],
            "layout": "IPY_MODEL_7edb789b685f4b9dbed2e209268f552a"
          }
        },
        "04e7326cdc3142b786df4f5a25a961e9": {
          "model_module": "@jupyter-widgets/controls",
          "model_name": "HTMLModel",
          "model_module_version": "1.5.0",
          "state": {
            "_dom_classes": [],
            "_model_module": "@jupyter-widgets/controls",
            "_model_module_version": "1.5.0",
            "_model_name": "HTMLModel",
            "_view_count": null,
            "_view_module": "@jupyter-widgets/controls",
            "_view_module_version": "1.5.0",
            "_view_name": "HTMLView",
            "description": "",
            "description_tooltip": null,
            "layout": "IPY_MODEL_614f51a490334a8580ee9ca1555f746a",
            "placeholder": "​",
            "style": "IPY_MODEL_3885fb993cc54bc3b73a589cabca6546",
            "value": "Downloading builder script: 100%"
          }
        },
        "ab39d77f63a74bfa926a3921a71ff109": {
          "model_module": "@jupyter-widgets/controls",
          "model_name": "FloatProgressModel",
          "model_module_version": "1.5.0",
          "state": {
            "_dom_classes": [],
            "_model_module": "@jupyter-widgets/controls",
            "_model_module_version": "1.5.0",
            "_model_name": "FloatProgressModel",
            "_view_count": null,
            "_view_module": "@jupyter-widgets/controls",
            "_view_module_version": "1.5.0",
            "_view_name": "ProgressView",
            "bar_style": "success",
            "description": "",
            "description_tooltip": null,
            "layout": "IPY_MODEL_89bd93241f784275847e8a5e6191cbbe",
            "max": 6771,
            "min": 0,
            "orientation": "horizontal",
            "style": "IPY_MODEL_1d1a8608059744988eef64bf084c05ee",
            "value": 6771
          }
        },
        "678a661b66ff49f393e22696732daed2": {
          "model_module": "@jupyter-widgets/controls",
          "model_name": "HTMLModel",
          "model_module_version": "1.5.0",
          "state": {
            "_dom_classes": [],
            "_model_module": "@jupyter-widgets/controls",
            "_model_module_version": "1.5.0",
            "_model_name": "HTMLModel",
            "_view_count": null,
            "_view_module": "@jupyter-widgets/controls",
            "_view_module_version": "1.5.0",
            "_view_name": "HTMLView",
            "description": "",
            "description_tooltip": null,
            "layout": "IPY_MODEL_e7cabbd73e0c4bb8a1df4e29475eefd3",
            "placeholder": "​",
            "style": "IPY_MODEL_6736e01b63154b5792fbfda3001774cf",
            "value": " 6.77k/6.77k [00:00&lt;00:00, 194kB/s]"
          }
        },
        "7edb789b685f4b9dbed2e209268f552a": {
          "model_module": "@jupyter-widgets/base",
          "model_name": "LayoutModel",
          "model_module_version": "1.2.0",
          "state": {
            "_model_module": "@jupyter-widgets/base",
            "_model_module_version": "1.2.0",
            "_model_name": "LayoutModel",
            "_view_count": null,
            "_view_module": "@jupyter-widgets/base",
            "_view_module_version": "1.2.0",
            "_view_name": "LayoutView",
            "align_content": null,
            "align_items": null,
            "align_self": null,
            "border": null,
            "bottom": null,
            "display": null,
            "flex": null,
            "flex_flow": null,
            "grid_area": null,
            "grid_auto_columns": null,
            "grid_auto_flow": null,
            "grid_auto_rows": null,
            "grid_column": null,
            "grid_gap": null,
            "grid_row": null,
            "grid_template_areas": null,
            "grid_template_columns": null,
            "grid_template_rows": null,
            "height": null,
            "justify_content": null,
            "justify_items": null,
            "left": null,
            "margin": null,
            "max_height": null,
            "max_width": null,
            "min_height": null,
            "min_width": null,
            "object_fit": null,
            "object_position": null,
            "order": null,
            "overflow": null,
            "overflow_x": null,
            "overflow_y": null,
            "padding": null,
            "right": null,
            "top": null,
            "visibility": null,
            "width": null
          }
        },
        "614f51a490334a8580ee9ca1555f746a": {
          "model_module": "@jupyter-widgets/base",
          "model_name": "LayoutModel",
          "model_module_version": "1.2.0",
          "state": {
            "_model_module": "@jupyter-widgets/base",
            "_model_module_version": "1.2.0",
            "_model_name": "LayoutModel",
            "_view_count": null,
            "_view_module": "@jupyter-widgets/base",
            "_view_module_version": "1.2.0",
            "_view_name": "LayoutView",
            "align_content": null,
            "align_items": null,
            "align_self": null,
            "border": null,
            "bottom": null,
            "display": null,
            "flex": null,
            "flex_flow": null,
            "grid_area": null,
            "grid_auto_columns": null,
            "grid_auto_flow": null,
            "grid_auto_rows": null,
            "grid_column": null,
            "grid_gap": null,
            "grid_row": null,
            "grid_template_areas": null,
            "grid_template_columns": null,
            "grid_template_rows": null,
            "height": null,
            "justify_content": null,
            "justify_items": null,
            "left": null,
            "margin": null,
            "max_height": null,
            "max_width": null,
            "min_height": null,
            "min_width": null,
            "object_fit": null,
            "object_position": null,
            "order": null,
            "overflow": null,
            "overflow_x": null,
            "overflow_y": null,
            "padding": null,
            "right": null,
            "top": null,
            "visibility": null,
            "width": null
          }
        },
        "3885fb993cc54bc3b73a589cabca6546": {
          "model_module": "@jupyter-widgets/controls",
          "model_name": "DescriptionStyleModel",
          "model_module_version": "1.5.0",
          "state": {
            "_model_module": "@jupyter-widgets/controls",
            "_model_module_version": "1.5.0",
            "_model_name": "DescriptionStyleModel",
            "_view_count": null,
            "_view_module": "@jupyter-widgets/base",
            "_view_module_version": "1.2.0",
            "_view_name": "StyleView",
            "description_width": ""
          }
        },
        "89bd93241f784275847e8a5e6191cbbe": {
          "model_module": "@jupyter-widgets/base",
          "model_name": "LayoutModel",
          "model_module_version": "1.2.0",
          "state": {
            "_model_module": "@jupyter-widgets/base",
            "_model_module_version": "1.2.0",
            "_model_name": "LayoutModel",
            "_view_count": null,
            "_view_module": "@jupyter-widgets/base",
            "_view_module_version": "1.2.0",
            "_view_name": "LayoutView",
            "align_content": null,
            "align_items": null,
            "align_self": null,
            "border": null,
            "bottom": null,
            "display": null,
            "flex": null,
            "flex_flow": null,
            "grid_area": null,
            "grid_auto_columns": null,
            "grid_auto_flow": null,
            "grid_auto_rows": null,
            "grid_column": null,
            "grid_gap": null,
            "grid_row": null,
            "grid_template_areas": null,
            "grid_template_columns": null,
            "grid_template_rows": null,
            "height": null,
            "justify_content": null,
            "justify_items": null,
            "left": null,
            "margin": null,
            "max_height": null,
            "max_width": null,
            "min_height": null,
            "min_width": null,
            "object_fit": null,
            "object_position": null,
            "order": null,
            "overflow": null,
            "overflow_x": null,
            "overflow_y": null,
            "padding": null,
            "right": null,
            "top": null,
            "visibility": null,
            "width": null
          }
        },
        "1d1a8608059744988eef64bf084c05ee": {
          "model_module": "@jupyter-widgets/controls",
          "model_name": "ProgressStyleModel",
          "model_module_version": "1.5.0",
          "state": {
            "_model_module": "@jupyter-widgets/controls",
            "_model_module_version": "1.5.0",
            "_model_name": "ProgressStyleModel",
            "_view_count": null,
            "_view_module": "@jupyter-widgets/base",
            "_view_module_version": "1.2.0",
            "_view_name": "StyleView",
            "bar_color": null,
            "description_width": ""
          }
        },
        "e7cabbd73e0c4bb8a1df4e29475eefd3": {
          "model_module": "@jupyter-widgets/base",
          "model_name": "LayoutModel",
          "model_module_version": "1.2.0",
          "state": {
            "_model_module": "@jupyter-widgets/base",
            "_model_module_version": "1.2.0",
            "_model_name": "LayoutModel",
            "_view_count": null,
            "_view_module": "@jupyter-widgets/base",
            "_view_module_version": "1.2.0",
            "_view_name": "LayoutView",
            "align_content": null,
            "align_items": null,
            "align_self": null,
            "border": null,
            "bottom": null,
            "display": null,
            "flex": null,
            "flex_flow": null,
            "grid_area": null,
            "grid_auto_columns": null,
            "grid_auto_flow": null,
            "grid_auto_rows": null,
            "grid_column": null,
            "grid_gap": null,
            "grid_row": null,
            "grid_template_areas": null,
            "grid_template_columns": null,
            "grid_template_rows": null,
            "height": null,
            "justify_content": null,
            "justify_items": null,
            "left": null,
            "margin": null,
            "max_height": null,
            "max_width": null,
            "min_height": null,
            "min_width": null,
            "object_fit": null,
            "object_position": null,
            "order": null,
            "overflow": null,
            "overflow_x": null,
            "overflow_y": null,
            "padding": null,
            "right": null,
            "top": null,
            "visibility": null,
            "width": null
          }
        },
        "6736e01b63154b5792fbfda3001774cf": {
          "model_module": "@jupyter-widgets/controls",
          "model_name": "DescriptionStyleModel",
          "model_module_version": "1.5.0",
          "state": {
            "_model_module": "@jupyter-widgets/controls",
            "_model_module_version": "1.5.0",
            "_model_name": "DescriptionStyleModel",
            "_view_count": null,
            "_view_module": "@jupyter-widgets/base",
            "_view_module_version": "1.2.0",
            "_view_name": "StyleView",
            "description_width": ""
          }
        }
      }
    }
  },
  "cells": [
    {
      "cell_type": "code",
      "source": [
        "# En caso de problemas, utilizar las dependencias de librerías de este requierement: https://github.com/googlecolab/backend-info/blob/d6d345cb94fc5fd49951c9af0f6ead5e962bfab2/pip-freeze.txt\n",
        "!pip install numpy==1.23.5\n",
        "!pip install transformers[torch]==4.35.2\n",
        "!pip install accelerate -U\n",
        "!pip install evaluate"
      ],
      "metadata": {
        "id": "wG7EP2fFgoTn"
      },
      "execution_count": null,
      "outputs": []
    },
    {
      "cell_type": "code",
      "execution_count": 2,
      "metadata": {
        "id": "pOub-BB9KWh5"
      },
      "outputs": [],
      "source": [
        "import pandas as pd\n",
        "def load_prepare_data(path):\n",
        "  \"\"\"\n",
        "  Función para cargar y procesar datos para el ejercicio.\n",
        "  \"\"\"\n",
        "  df = pd.read_csv(path,sep=\",\")\n",
        "  map_classes = {\n",
        "    \"religion\":1,\n",
        "    \"age\":1,\n",
        "    \"ethnicity\":1,\n",
        "    \"gender\":1,\n",
        "    \"other_cyberbullying\":1,\n",
        "    \"not_cyberbullying\":0,\n",
        "  }\n",
        "  df[\"cyberbullying\"] = df.cyberbullying_type.map(map_classes)\n",
        "  return df[[\"tweet_text\",\"cyberbullying\"]].copy()"
      ]
    },
    {
      "cell_type": "markdown",
      "source": [
        "# Ejercicio\n"
      ],
      "metadata": {
        "id": "OeczIz9uKyBV"
      }
    },
    {
      "cell_type": "markdown",
      "source": [
        "En este ejercicio vamos a trabajar con un conjunto de datos procedente de medios sociales online.\n",
        "\n",
        "Uno de los mayores problemas en el internet de hoy en día es la presencia de actitudes negativas hacia algunos colectivos en relación a su etnia, género, religión o ideología política. En este ejercicio trabajaremos con un conjunto de datos reales, etiquetados manualmente, procedentes de la plataforma [Kaggle](https://www.kaggle.com/datasets/andrewmvd/cyberbullying-classification/data). Originalmente, a cada documento del dataset se le asignó una de las siguientes categorías:\n",
        "- *religion*\n",
        "- *age*\n",
        "- *ethnicity*\n",
        "- *gender*\n",
        "- *other_cyberbullying*\n",
        "- *not_cyberbullying*\n",
        "\n",
        "\n",
        "El objetivo inicial del dataset era su uso para entrenar un modelo capaz de detectar el tipo de contenido de odio presente en internet según el colectivo al que se atacaba. En este caso, para simplificar el ejercicio, se ha generado una función `load_prepare_data()` que cambia las categorías del dataset obteníendose al final 2 categorías con valor 1 o 0, indicando si el tweet tiene contenido de odio"
      ],
      "metadata": {
        "id": "I9EFBbmM5w90"
      }
    },
    {
      "cell_type": "markdown",
      "source": [
        "**En este ejercicio debeis entrenar un modelo de clasificación utilizando la librería Transformers.** Dado que el análisis exploratorio ha sido realizado en el ejercicio anterior, en este caso podréis centraros en entrenar el modelo utilizando la librería Transformers, seleccionando un modelo pre-entrenado adecuado, entrenando el modelo y llevando a cabo la evaluación.\n",
        "\n",
        "\n",
        "**Nota 1**: Este ejercicio requiere el uso de las GPUs de Google Colab. Este Colab debería estar preconfigurado para ejecutarse en GPU, pero si tuviera problemas en la ejecución que me contacte a través del Moodle para buscar soluciones alternativas."
      ],
      "metadata": {
        "id": "8c1vV6Aogbxu"
      }
    },
    {
      "cell_type": "markdown",
      "source": [
        "## 0. Imports\n"
      ],
      "metadata": {
        "id": "u5dR3XnT7Wl1"
      }
    },
    {
      "cell_type": "code",
      "source": [
        "from transformers import (\n",
        "   AutoConfig,\n",
        "   AutoTokenizer,\n",
        "   AutoModelForSequenceClassification,\n",
        "   AdamW\n",
        ")\n",
        "import torch\n",
        "import pandas as pd\n",
        "from sklearn.model_selection import train_test_split"
      ],
      "metadata": {
        "id": "fVOCm6Kw7WCW",
        "colab": {
          "base_uri": "https://localhost:8080/"
        },
        "outputId": "1bf90ffa-8ee4-4647-a7a5-14b4e9c49fa1"
      },
      "execution_count": 3,
      "outputs": [
        {
          "output_type": "stream",
          "name": "stderr",
          "text": [
            "/usr/local/lib/python3.10/dist-packages/transformers/utils/generic.py:441: UserWarning: torch.utils._pytree._register_pytree_node is deprecated. Please use torch.utils._pytree.register_pytree_node instead.\n",
            "  _torch_pytree._register_pytree_node(\n"
          ]
        }
      ]
    },
    {
      "cell_type": "markdown",
      "source": [
        "## 1. Obtención del corpus\n",
        "Para la obtención de los datos teneis disponible la función `load_prepare_data()`. Esta función prepara los datos del ejercicio en formato Pandas dataframe para que podais realizarlo."
      ],
      "metadata": {
        "id": "WbiU7iHSKd-9"
      }
    },
    {
      "cell_type": "code",
      "source": [
        "path_data = \"https://raw.githubusercontent.com/luisgasco/ntic_master_datos/main/datasets/cyberbullying_tweets.csv\"\n",
        "# Path de datos alternativos en caso de que el anterior no funcione (al estar alojado en github puede haber limitaciones\n",
        "# en la descarga.\n",
        "# path_data = \"https://zenodo.org/records/10938455/files/cyberbullying_tweets.csv?download=1\"\n",
        "dataset = load_prepare_data(path_data)"
      ],
      "metadata": {
        "id": "4kMXGAUdgvKo"
      },
      "execution_count": 4,
      "outputs": []
    },
    {
      "cell_type": "code",
      "source": [
        "dataset.head(4)"
      ],
      "metadata": {
        "id": "6dXS2-2JgvKo",
        "colab": {
          "base_uri": "https://localhost:8080/",
          "height": 175
        },
        "outputId": "c179cb03-0ff1-4bf9-d4e7-59f9a7a5ddf2"
      },
      "execution_count": 5,
      "outputs": [
        {
          "output_type": "execute_result",
          "data": {
            "text/plain": [
              "                                          tweet_text  cyberbullying\n",
              "0  In other words #katandandre, your food was cra...              0\n",
              "1  Why is #aussietv so white? #MKR #theblock #ImA...              0\n",
              "2  @XochitlSuckkks a classy whore? Or more red ve...              0\n",
              "3  @Jason_Gio meh. :P  thanks for the heads up, b...              0"
            ],
            "text/html": [
              "\n",
              "  <div id=\"df-6869f250-ac1c-4558-9f56-b598a5a43dca\" class=\"colab-df-container\">\n",
              "    <div>\n",
              "<style scoped>\n",
              "    .dataframe tbody tr th:only-of-type {\n",
              "        vertical-align: middle;\n",
              "    }\n",
              "\n",
              "    .dataframe tbody tr th {\n",
              "        vertical-align: top;\n",
              "    }\n",
              "\n",
              "    .dataframe thead th {\n",
              "        text-align: right;\n",
              "    }\n",
              "</style>\n",
              "<table border=\"1\" class=\"dataframe\">\n",
              "  <thead>\n",
              "    <tr style=\"text-align: right;\">\n",
              "      <th></th>\n",
              "      <th>tweet_text</th>\n",
              "      <th>cyberbullying</th>\n",
              "    </tr>\n",
              "  </thead>\n",
              "  <tbody>\n",
              "    <tr>\n",
              "      <th>0</th>\n",
              "      <td>In other words #katandandre, your food was cra...</td>\n",
              "      <td>0</td>\n",
              "    </tr>\n",
              "    <tr>\n",
              "      <th>1</th>\n",
              "      <td>Why is #aussietv so white? #MKR #theblock #ImA...</td>\n",
              "      <td>0</td>\n",
              "    </tr>\n",
              "    <tr>\n",
              "      <th>2</th>\n",
              "      <td>@XochitlSuckkks a classy whore? Or more red ve...</td>\n",
              "      <td>0</td>\n",
              "    </tr>\n",
              "    <tr>\n",
              "      <th>3</th>\n",
              "      <td>@Jason_Gio meh. :P  thanks for the heads up, b...</td>\n",
              "      <td>0</td>\n",
              "    </tr>\n",
              "  </tbody>\n",
              "</table>\n",
              "</div>\n",
              "    <div class=\"colab-df-buttons\">\n",
              "\n",
              "  <div class=\"colab-df-container\">\n",
              "    <button class=\"colab-df-convert\" onclick=\"convertToInteractive('df-6869f250-ac1c-4558-9f56-b598a5a43dca')\"\n",
              "            title=\"Convert this dataframe to an interactive table.\"\n",
              "            style=\"display:none;\">\n",
              "\n",
              "  <svg xmlns=\"http://www.w3.org/2000/svg\" height=\"24px\" viewBox=\"0 -960 960 960\">\n",
              "    <path d=\"M120-120v-720h720v720H120Zm60-500h600v-160H180v160Zm220 220h160v-160H400v160Zm0 220h160v-160H400v160ZM180-400h160v-160H180v160Zm440 0h160v-160H620v160ZM180-180h160v-160H180v160Zm440 0h160v-160H620v160Z\"/>\n",
              "  </svg>\n",
              "    </button>\n",
              "\n",
              "  <style>\n",
              "    .colab-df-container {\n",
              "      display:flex;\n",
              "      gap: 12px;\n",
              "    }\n",
              "\n",
              "    .colab-df-convert {\n",
              "      background-color: #E8F0FE;\n",
              "      border: none;\n",
              "      border-radius: 50%;\n",
              "      cursor: pointer;\n",
              "      display: none;\n",
              "      fill: #1967D2;\n",
              "      height: 32px;\n",
              "      padding: 0 0 0 0;\n",
              "      width: 32px;\n",
              "    }\n",
              "\n",
              "    .colab-df-convert:hover {\n",
              "      background-color: #E2EBFA;\n",
              "      box-shadow: 0px 1px 2px rgba(60, 64, 67, 0.3), 0px 1px 3px 1px rgba(60, 64, 67, 0.15);\n",
              "      fill: #174EA6;\n",
              "    }\n",
              "\n",
              "    .colab-df-buttons div {\n",
              "      margin-bottom: 4px;\n",
              "    }\n",
              "\n",
              "    [theme=dark] .colab-df-convert {\n",
              "      background-color: #3B4455;\n",
              "      fill: #D2E3FC;\n",
              "    }\n",
              "\n",
              "    [theme=dark] .colab-df-convert:hover {\n",
              "      background-color: #434B5C;\n",
              "      box-shadow: 0px 1px 3px 1px rgba(0, 0, 0, 0.15);\n",
              "      filter: drop-shadow(0px 1px 2px rgba(0, 0, 0, 0.3));\n",
              "      fill: #FFFFFF;\n",
              "    }\n",
              "  </style>\n",
              "\n",
              "    <script>\n",
              "      const buttonEl =\n",
              "        document.querySelector('#df-6869f250-ac1c-4558-9f56-b598a5a43dca button.colab-df-convert');\n",
              "      buttonEl.style.display =\n",
              "        google.colab.kernel.accessAllowed ? 'block' : 'none';\n",
              "\n",
              "      async function convertToInteractive(key) {\n",
              "        const element = document.querySelector('#df-6869f250-ac1c-4558-9f56-b598a5a43dca');\n",
              "        const dataTable =\n",
              "          await google.colab.kernel.invokeFunction('convertToInteractive',\n",
              "                                                    [key], {});\n",
              "        if (!dataTable) return;\n",
              "\n",
              "        const docLinkHtml = 'Like what you see? Visit the ' +\n",
              "          '<a target=\"_blank\" href=https://colab.research.google.com/notebooks/data_table.ipynb>data table notebook</a>'\n",
              "          + ' to learn more about interactive tables.';\n",
              "        element.innerHTML = '';\n",
              "        dataTable['output_type'] = 'display_data';\n",
              "        await google.colab.output.renderOutput(dataTable, element);\n",
              "        const docLink = document.createElement('div');\n",
              "        docLink.innerHTML = docLinkHtml;\n",
              "        element.appendChild(docLink);\n",
              "      }\n",
              "    </script>\n",
              "  </div>\n",
              "\n",
              "\n",
              "<div id=\"df-5b5e6373-a619-4716-ba5f-0874bdaa26a7\">\n",
              "  <button class=\"colab-df-quickchart\" onclick=\"quickchart('df-5b5e6373-a619-4716-ba5f-0874bdaa26a7')\"\n",
              "            title=\"Suggest charts\"\n",
              "            style=\"display:none;\">\n",
              "\n",
              "<svg xmlns=\"http://www.w3.org/2000/svg\" height=\"24px\"viewBox=\"0 0 24 24\"\n",
              "     width=\"24px\">\n",
              "    <g>\n",
              "        <path d=\"M19 3H5c-1.1 0-2 .9-2 2v14c0 1.1.9 2 2 2h14c1.1 0 2-.9 2-2V5c0-1.1-.9-2-2-2zM9 17H7v-7h2v7zm4 0h-2V7h2v10zm4 0h-2v-4h2v4z\"/>\n",
              "    </g>\n",
              "</svg>\n",
              "  </button>\n",
              "\n",
              "<style>\n",
              "  .colab-df-quickchart {\n",
              "      --bg-color: #E8F0FE;\n",
              "      --fill-color: #1967D2;\n",
              "      --hover-bg-color: #E2EBFA;\n",
              "      --hover-fill-color: #174EA6;\n",
              "      --disabled-fill-color: #AAA;\n",
              "      --disabled-bg-color: #DDD;\n",
              "  }\n",
              "\n",
              "  [theme=dark] .colab-df-quickchart {\n",
              "      --bg-color: #3B4455;\n",
              "      --fill-color: #D2E3FC;\n",
              "      --hover-bg-color: #434B5C;\n",
              "      --hover-fill-color: #FFFFFF;\n",
              "      --disabled-bg-color: #3B4455;\n",
              "      --disabled-fill-color: #666;\n",
              "  }\n",
              "\n",
              "  .colab-df-quickchart {\n",
              "    background-color: var(--bg-color);\n",
              "    border: none;\n",
              "    border-radius: 50%;\n",
              "    cursor: pointer;\n",
              "    display: none;\n",
              "    fill: var(--fill-color);\n",
              "    height: 32px;\n",
              "    padding: 0;\n",
              "    width: 32px;\n",
              "  }\n",
              "\n",
              "  .colab-df-quickchart:hover {\n",
              "    background-color: var(--hover-bg-color);\n",
              "    box-shadow: 0 1px 2px rgba(60, 64, 67, 0.3), 0 1px 3px 1px rgba(60, 64, 67, 0.15);\n",
              "    fill: var(--button-hover-fill-color);\n",
              "  }\n",
              "\n",
              "  .colab-df-quickchart-complete:disabled,\n",
              "  .colab-df-quickchart-complete:disabled:hover {\n",
              "    background-color: var(--disabled-bg-color);\n",
              "    fill: var(--disabled-fill-color);\n",
              "    box-shadow: none;\n",
              "  }\n",
              "\n",
              "  .colab-df-spinner {\n",
              "    border: 2px solid var(--fill-color);\n",
              "    border-color: transparent;\n",
              "    border-bottom-color: var(--fill-color);\n",
              "    animation:\n",
              "      spin 1s steps(1) infinite;\n",
              "  }\n",
              "\n",
              "  @keyframes spin {\n",
              "    0% {\n",
              "      border-color: transparent;\n",
              "      border-bottom-color: var(--fill-color);\n",
              "      border-left-color: var(--fill-color);\n",
              "    }\n",
              "    20% {\n",
              "      border-color: transparent;\n",
              "      border-left-color: var(--fill-color);\n",
              "      border-top-color: var(--fill-color);\n",
              "    }\n",
              "    30% {\n",
              "      border-color: transparent;\n",
              "      border-left-color: var(--fill-color);\n",
              "      border-top-color: var(--fill-color);\n",
              "      border-right-color: var(--fill-color);\n",
              "    }\n",
              "    40% {\n",
              "      border-color: transparent;\n",
              "      border-right-color: var(--fill-color);\n",
              "      border-top-color: var(--fill-color);\n",
              "    }\n",
              "    60% {\n",
              "      border-color: transparent;\n",
              "      border-right-color: var(--fill-color);\n",
              "    }\n",
              "    80% {\n",
              "      border-color: transparent;\n",
              "      border-right-color: var(--fill-color);\n",
              "      border-bottom-color: var(--fill-color);\n",
              "    }\n",
              "    90% {\n",
              "      border-color: transparent;\n",
              "      border-bottom-color: var(--fill-color);\n",
              "    }\n",
              "  }\n",
              "</style>\n",
              "\n",
              "  <script>\n",
              "    async function quickchart(key) {\n",
              "      const quickchartButtonEl =\n",
              "        document.querySelector('#' + key + ' button');\n",
              "      quickchartButtonEl.disabled = true;  // To prevent multiple clicks.\n",
              "      quickchartButtonEl.classList.add('colab-df-spinner');\n",
              "      try {\n",
              "        const charts = await google.colab.kernel.invokeFunction(\n",
              "            'suggestCharts', [key], {});\n",
              "      } catch (error) {\n",
              "        console.error('Error during call to suggestCharts:', error);\n",
              "      }\n",
              "      quickchartButtonEl.classList.remove('colab-df-spinner');\n",
              "      quickchartButtonEl.classList.add('colab-df-quickchart-complete');\n",
              "    }\n",
              "    (() => {\n",
              "      let quickchartButtonEl =\n",
              "        document.querySelector('#df-5b5e6373-a619-4716-ba5f-0874bdaa26a7 button');\n",
              "      quickchartButtonEl.style.display =\n",
              "        google.colab.kernel.accessAllowed ? 'block' : 'none';\n",
              "    })();\n",
              "  </script>\n",
              "</div>\n",
              "    </div>\n",
              "  </div>\n"
            ],
            "application/vnd.google.colaboratory.intrinsic+json": {
              "type": "dataframe",
              "variable_name": "dataset",
              "summary": "{\n  \"name\": \"dataset\",\n  \"rows\": 47692,\n  \"fields\": [\n    {\n      \"column\": \"tweet_text\",\n      \"properties\": {\n        \"dtype\": \"string\",\n        \"num_unique_values\": 46017,\n        \"samples\": [\n          \"@AndyEaston85 Love how we are teaching the Bullshitters a lesson in football. Miss Bully and his message board posts.\",\n          \"GYUK | Anti-feminist YouTuber doubles down on vile Jess Phillips rape joke while leaping to the defence ...: In a video uploaded Thursday (April 23), former UKIP candidate Benjamin jumped to the defence of retired gay porn actor turned men's rights\\u2026 http://dlvr.it/RVRS8h\",\n          \"@Truth_Haqq Islam declared war on all mankind 1400 years ago. Now we return the favor. http://t.co/av4B4yCQzY\"\n        ],\n        \"semantic_type\": \"\",\n        \"description\": \"\"\n      }\n    },\n    {\n      \"column\": \"cyberbullying\",\n      \"properties\": {\n        \"dtype\": \"number\",\n        \"std\": 0,\n        \"min\": 0,\n        \"max\": 1,\n        \"num_unique_values\": 2,\n        \"samples\": [\n          1,\n          0\n        ],\n        \"semantic_type\": \"\",\n        \"description\": \"\"\n      }\n    }\n  ]\n}"
            }
          },
          "metadata": {},
          "execution_count": 5
        }
      ]
    },
    {
      "cell_type": "markdown",
      "source": [
        "## 2. Análisis exploratorio"
      ],
      "metadata": {
        "id": "jJoVvfp77ZeF"
      }
    },
    {
      "cell_type": "markdown",
      "source": [
        "Podéis saltarlo en este ejercicio."
      ],
      "metadata": {
        "id": "NUmXuDMmhtoS"
      }
    },
    {
      "cell_type": "markdown",
      "source": [
        "## 3. Preprocesado y Normalización"
      ],
      "metadata": {
        "id": "9wseifFy7b4-"
      }
    },
    {
      "cell_type": "markdown",
      "source": [
        "Para comenzar con nuestro ejercicio de Modelos de Lenguaje, debo dividir el dataset para llevar a caso el proceso.![Captura de ecrã 2024-05-09 191445.png](data:image/png;base64,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)"
      ],
      "metadata": {
        "id": "tkz1xL6cOjQD"
      }
    },
    {
      "cell_type": "code",
      "source": [
        "texts = dataset.tweet_text.values\n",
        "labels = dataset.cyberbullying.values"
      ],
      "metadata": {
        "id": "aac98seT7cBD"
      },
      "execution_count": 6,
      "outputs": []
    },
    {
      "cell_type": "markdown",
      "source": [
        "Procedo a dividir y hacer el muestreo del conjunto de datos que poseo en Train_validation aplicando sobre un 90% y un 10% de test."
      ],
      "metadata": {
        "id": "i-ChHUNdQ4j3"
      }
    },
    {
      "cell_type": "code",
      "source": [
        "train_texts, test_texts, train_labels, test_labels = train_test_split(texts,\n",
        "                                                                      labels,\n",
        "                                                                      test_size=.25,\n",
        "                                                                      random_state=0,\n",
        "                                                                      stratify = labels)\n",
        "train_texts, val_texts, train_labels, val_labels = train_test_split(train_texts,\n",
        "                                                                    train_labels,\n",
        "                                                                    test_size=.2,\n",
        "                                                                    random_state=0,\n",
        "                                                                    stratify = train_labels)"
      ],
      "metadata": {
        "id": "-umV9HS3REVc"
      },
      "execution_count": 7,
      "outputs": []
    },
    {
      "cell_type": "markdown",
      "source": [
        "Cuando se emplea la librería Transformers, es crucial adaptar nuestros datos al formato que el modelo preentrenado requiere. Cada uno de estos modelos cuenta con un tokenizador diseñado específicamente para segmentar los textos de la forma más adecuada para su procesamiento. En este momento, es necesario seleccionar el modelo preentrenado que utilizaremos para tratar nuestros textos. Para elegir el modelo adecuado, podemos explorar el hub de modelos de HuggingFace."
      ],
      "metadata": {
        "id": "EyFZNRh9R5wj"
      }
    },
    {
      "cell_type": "markdown",
      "source": [
        "En mi caso, he decidido entrar en Models - Hugging Face, como se que vienen de twitter los datos, modelos de lenguaje, selecciono modelos base que son los Fill-Mask y he tratado de seleccionar uno de cardiff que son los que mejor funcionan, por lo tanto, escogi: bert-base-uncased."
      ],
      "metadata": {
        "id": "j2F666lrR6z2"
      }
    },
    {
      "cell_type": "code",
      "source": [
        "model_name = \"bert-base-uncased\""
      ],
      "metadata": {
        "id": "e4_jV_1nT0pB"
      },
      "execution_count": 8,
      "outputs": []
    },
    {
      "cell_type": "markdown",
      "source": [
        "Ahora, podria cargar nuestro Tokenizador utilizando la clase AutoTokenizer."
      ],
      "metadata": {
        "id": "ENEUQtGnWj6e"
      }
    },
    {
      "cell_type": "code",
      "source": [
        "tokenizer = AutoTokenizer.from_pretrained(model_name)"
      ],
      "metadata": {
        "colab": {
          "base_uri": "https://localhost:8080/",
          "height": 313,
          "referenced_widgets": [
            "b9b003fb053e4ee295d2195bcdf43a79",
            "702ccdb8c07d4bbc9a66202ab32716eb",
            "9ded15ec9387437da9d659512dc467a7",
            "04d8df055c99465db2b6dc329aaa3310",
            "2d80944ccd1e44bc80ae2b5ce2cd3dcb",
            "cba189410b624caeae0d797583ad4d06",
            "fdeb1d78f27b4bc089b22c4e6b28e7f2",
            "64a4f35efe584dcbaea76cd407ef0710",
            "cae69524f8d64d989927b8b5b0e86a8e",
            "64cba002491441d0b7b717e3fb70993c",
            "9c017471737c4f9eae131434503589d9",
            "c28ee499010d414390a563b3e8b477a3",
            "dd31c21e860340cb87cdcf3974273938",
            "5479f4b6cc174148adcb822ba9c3df54",
            "6a481ad46976434a90e839b5c4227169",
            "b383323688ff4337850fb53f71ee5773",
            "8473100202d344e2b03aaaa53f08f0ff",
            "e60ced4340cf4b14ac91b502a7a8e3c5",
            "5a3c85ca7a5947d98635808bdf81334f",
            "749290566c3744008fd4fcead527aab3",
            "eb31d0769830469aa0d2a322fb02a1b2",
            "c9098b28a0234d8fa9debaea04654c24",
            "12eac709d7304f94af02734e4f6466da",
            "b50d34df762a485fb199bd1ca8c30c2c",
            "c761a1fc76024f4aa04d76a34236c336",
            "028ca9d5b703416a92ac4bba3497d66a",
            "01c961428f5f46faae4c378da143acd5",
            "7dea414347de4cca848fbd34796ae61c",
            "ef63a227b3e04c568b2913280b447232",
            "4402165ef4024c37975a22ea5b12c02a",
            "1db553fd3ac14166b1af89084def4107",
            "e54755954dc248ec811a3b62148c5748",
            "28719a1b6a8a40ff940f4bbf9ade8ec5",
            "c4554069775944a2a0be07120f71f1bd",
            "e09c03889af94b4595fc36589c773c7d",
            "f8324e3e0e6344cb9cd5fd3529a57a48",
            "11fd20f235a740c08f6c946b4380d9c8",
            "c10831574fef4b639349539b8ce4d1b0",
            "520dc5f78eda4f8090145eaf4ba740a3",
            "1c53620baa5049bab03da4e8504280c1",
            "072ba76b912d4ab9b32fa932d592efee",
            "1b9d43ff69914137b981ae4ae9b3564e",
            "2fb622ebab9947c29cb6b61f80d87588",
            "4d88d656364a46ffa6d1fd4babc17ef1"
          ]
        },
        "id": "IM60QdoaWsjP",
        "outputId": "94a0c1fd-d1fe-4c7f-9042-9442dfab78f6"
      },
      "execution_count": 9,
      "outputs": [
        {
          "output_type": "stream",
          "name": "stderr",
          "text": [
            "/usr/local/lib/python3.10/dist-packages/huggingface_hub/file_download.py:1132: FutureWarning: `resume_download` is deprecated and will be removed in version 1.0.0. Downloads always resume when possible. If you want to force a new download, use `force_download=True`.\n",
            "  warnings.warn(\n",
            "/usr/local/lib/python3.10/dist-packages/huggingface_hub/utils/_token.py:89: UserWarning: \n",
            "The secret `HF_TOKEN` does not exist in your Colab secrets.\n",
            "To authenticate with the Hugging Face Hub, create a token in your settings tab (https://huggingface.co/settings/tokens), set it as secret in your Google Colab and restart your session.\n",
            "You will be able to reuse this secret in all of your notebooks.\n",
            "Please note that authentication is recommended but still optional to access public models or datasets.\n",
            "  warnings.warn(\n"
          ]
        },
        {
          "output_type": "display_data",
          "data": {
            "text/plain": [
              "tokenizer_config.json:   0%|          | 0.00/48.0 [00:00<?, ?B/s]"
            ],
            "application/vnd.jupyter.widget-view+json": {
              "version_major": 2,
              "version_minor": 0,
              "model_id": "b9b003fb053e4ee295d2195bcdf43a79"
            }
          },
          "metadata": {}
        },
        {
          "output_type": "display_data",
          "data": {
            "text/plain": [
              "config.json:   0%|          | 0.00/570 [00:00<?, ?B/s]"
            ],
            "application/vnd.jupyter.widget-view+json": {
              "version_major": 2,
              "version_minor": 0,
              "model_id": "c28ee499010d414390a563b3e8b477a3"
            }
          },
          "metadata": {}
        },
        {
          "output_type": "display_data",
          "data": {
            "text/plain": [
              "vocab.txt:   0%|          | 0.00/232k [00:00<?, ?B/s]"
            ],
            "application/vnd.jupyter.widget-view+json": {
              "version_major": 2,
              "version_minor": 0,
              "model_id": "12eac709d7304f94af02734e4f6466da"
            }
          },
          "metadata": {}
        },
        {
          "output_type": "display_data",
          "data": {
            "text/plain": [
              "tokenizer.json:   0%|          | 0.00/466k [00:00<?, ?B/s]"
            ],
            "application/vnd.jupyter.widget-view+json": {
              "version_major": 2,
              "version_minor": 0,
              "model_id": "c4554069775944a2a0be07120f71f1bd"
            }
          },
          "metadata": {}
        }
      ]
    },
    {
      "cell_type": "markdown",
      "source": [
        "Ahora comprobaré como el tokenizador subdivide un texto de ejemplo:"
      ],
      "metadata": {
        "id": "a6gUNkjrWyFD"
      }
    },
    {
      "cell_type": "code",
      "source": [
        "texto = \"Cats and gods love each to other as a brothers\"\n",
        "texto_tokens = tokenizer(texto).tokens()\n",
        "texto_tokens"
      ],
      "metadata": {
        "colab": {
          "base_uri": "https://localhost:8080/"
        },
        "id": "qtXZRui4W3Q1",
        "outputId": "d7a8153c-5ecc-4816-ad1b-808e3e1828cb"
      },
      "execution_count": 10,
      "outputs": [
        {
          "output_type": "execute_result",
          "data": {
            "text/plain": [
              "['[CLS]',\n",
              " 'cats',\n",
              " 'and',\n",
              " 'gods',\n",
              " 'love',\n",
              " 'each',\n",
              " 'to',\n",
              " 'other',\n",
              " 'as',\n",
              " 'a',\n",
              " 'brothers',\n",
              " '[SEP]']"
            ]
          },
          "metadata": {},
          "execution_count": 10
        }
      ]
    },
    {
      "cell_type": "markdown",
      "source": [
        "Es notorio que los caracteres [CLS] y [SEP] marcan, respectivamente, el comienzo y el fin de una frase. Estos caracteres específicos son utilizados para señalar el inicio y conclusión de frases en los modelos que emplean la arquitectura Bert."
      ],
      "metadata": {
        "id": "AeHmOqcoYliB"
      }
    },
    {
      "cell_type": "markdown",
      "source": [
        "## 4. Vectorización"
      ],
      "metadata": {
        "id": "5vJkVg9X7cOx"
      }
    },
    {
      "cell_type": "markdown",
      "source": [
        "Además, para utilizar eficazmente el ecosistema de HuggingFace, es fundamental importar los datos conforme a la estructura que emplea la librería Datasets, la cual se basa en un formato columnar establecido por el proyecto Apache Arrow.\n",
        "\n",
        "Los datasets pueden obtenerse directamente desde el repositorio de HuggingFace o se pueden ajustar datos propios al formato Dataset usando funciones designadas para tal fin. Para este propósito, emplearemos una clase denominada CustomDataset(), que recibirá como entrada los textos y las etiquetas de cada subconjunto de datos y los adaptará al formato necesario para el entrenamiento, realizando la tokenización de manera interna."
      ],
      "metadata": {
        "id": "eyh06qQaZ16u"
      }
    },
    {
      "cell_type": "code",
      "source": [
        "import torch\n",
        "from torch.utils.data import Dataset\n",
        "\n",
        "class CustomDataset(Dataset):\n",
        "    def __init__(self, texts, labels, tokenizer, max_length):\n",
        "        \"\"\"\n",
        "        Constructor de la clase CustomDataset.\n",
        "        Parámetros:\n",
        "        - texts: Lista de textos.\n",
        "        - labels: Lista de etiquetas correspondientes a los textos.\n",
        "        - tokenizer: Objeto del tokenizador a utilizar.\n",
        "        - max_length: Longitud máxima de la secuencia después de la tokenización.\n",
        "        \"\"\"\n",
        "        self.texts = texts\n",
        "        self.labels = labels\n",
        "        self.tokenizer = tokenizer\n",
        "        self.max_length = max_length\n",
        "\n",
        "    def __len__(self):\n",
        "        \"\"\"\n",
        "        Devuelve la longitud del conjunto de datos.\n",
        "        \"\"\"\n",
        "        return len(self.texts)\n",
        "\n",
        "    def __getitem__(self, idx):\n",
        "        \"\"\"\n",
        "        Obtiene un elemento del conjunto de datos.\n",
        "\n",
        "        Parámetros:\n",
        "        - idx: Índice del elemento a obtener.\n",
        "\n",
        "        Devuelve:\n",
        "        Un diccionario con 'input_ids', 'attention_mask' y 'labels'.\n",
        "        \"\"\"\n",
        "        # Obtener el texto y la etiqueta del índice proporcionado\n",
        "        text = str(self.texts[idx])\n",
        "        label = int(self.labels[idx])\n",
        "\n",
        "        # Tokenizar el texto\n",
        "        encoding = self.tokenizer(\n",
        "            text,\n",
        "            add_special_tokens=True,\n",
        "            max_length=self.max_length,\n",
        "            truncation=True,\n",
        "            padding='max_length',\n",
        "            return_tensors='pt'\n",
        "        )\n",
        "\n",
        "        # Devolver el diccionario con los datos\n",
        "        return {\n",
        "            'input_ids': encoding['input_ids'].flatten(),\n",
        "            'attention_mask': encoding['attention_mask'].flatten(),\n",
        "            'labels': torch.tensor(label, dtype=torch.long)\n",
        "        }\n"
      ],
      "metadata": {
        "id": "jnxNr3I9Z6HW"
      },
      "execution_count": 11,
      "outputs": []
    },
    {
      "cell_type": "markdown",
      "source": [
        "Transformare mis datos al formato datasets"
      ],
      "metadata": {
        "id": "G1cYTrKsZ-Nl"
      }
    },
    {
      "cell_type": "code",
      "source": [
        "max_length = 128\n",
        "\n",
        "train_dataset = CustomDataset(train_texts, train_labels, tokenizer, max_length)\n",
        "val_dataset = CustomDataset(val_texts, val_labels, tokenizer, max_length)\n",
        "test_dataset = CustomDataset(test_texts, test_labels, tokenizer, max_length)"
      ],
      "metadata": {
        "id": "GlGMA0AKaCaj"
      },
      "execution_count": 12,
      "outputs": []
    },
    {
      "cell_type": "markdown",
      "source": [
        "Observaremos que cada elemento del nuevo formato contendrá:\n",
        "\n",
        "inputs_ids: Son identificadores numéricos que representan los tokens según el vocabulario del modelo.\n",
        "attention_mask: Un vector que señala a la red neuronal las partes de la secuencia de entrada a las que debe atender y las que debe omitir.\n",
        "labels: Este campo alberga la etiqueta correspondiente al texto."
      ],
      "metadata": {
        "id": "llmDjUdpazjs"
      }
    },
    {
      "cell_type": "code",
      "source": [
        "train_dataset[20]"
      ],
      "metadata": {
        "colab": {
          "base_uri": "https://localhost:8080/"
        },
        "id": "m8kSy8a2a3-a",
        "outputId": "2e976846-77bf-4b32-906b-206ddbd3072a"
      },
      "execution_count": 13,
      "outputs": [
        {
          "output_type": "execute_result",
          "data": {
            "text/plain": [
              "{'input_ids': tensor([  101,  2027,  1005,  2128,  2725,  1996,  4438,  2082, 20716,  5248,\n",
              "          1012,  2725,  2035,  2027,  2064,  2000,  2131,  2111,  1999,  4390,\n",
              "          1998,  2131,  2185,  2007,  2009,  2011,  7302,  3093,  2012,  1996,\n",
              "          7036,  1998,  2667,  2000,  2377,  1996,  7499,  2208,  1012,   102,\n",
              "             0,     0,     0,     0,     0,     0,     0,     0,     0,     0,\n",
              "             0,     0,     0,     0,     0,     0,     0,     0,     0,     0,\n",
              "             0,     0,     0,     0,     0,     0,     0,     0,     0,     0,\n",
              "             0,     0,     0,     0,     0,     0,     0,     0,     0,     0,\n",
              "             0,     0,     0,     0,     0,     0,     0,     0,     0,     0,\n",
              "             0,     0,     0,     0,     0,     0,     0,     0,     0,     0,\n",
              "             0,     0,     0,     0,     0,     0,     0,     0,     0,     0,\n",
              "             0,     0,     0,     0,     0,     0,     0,     0,     0,     0,\n",
              "             0,     0,     0,     0,     0,     0,     0,     0]),\n",
              " 'attention_mask': tensor([1, 1, 1, 1, 1, 1, 1, 1, 1, 1, 1, 1, 1, 1, 1, 1, 1, 1, 1, 1, 1, 1, 1, 1,\n",
              "         1, 1, 1, 1, 1, 1, 1, 1, 1, 1, 1, 1, 1, 1, 1, 1, 0, 0, 0, 0, 0, 0, 0, 0,\n",
              "         0, 0, 0, 0, 0, 0, 0, 0, 0, 0, 0, 0, 0, 0, 0, 0, 0, 0, 0, 0, 0, 0, 0, 0,\n",
              "         0, 0, 0, 0, 0, 0, 0, 0, 0, 0, 0, 0, 0, 0, 0, 0, 0, 0, 0, 0, 0, 0, 0, 0,\n",
              "         0, 0, 0, 0, 0, 0, 0, 0, 0, 0, 0, 0, 0, 0, 0, 0, 0, 0, 0, 0, 0, 0, 0, 0,\n",
              "         0, 0, 0, 0, 0, 0, 0, 0]),\n",
              " 'labels': tensor(1)}"
            ]
          },
          "metadata": {},
          "execution_count": 13
        }
      ]
    },
    {
      "cell_type": "markdown",
      "source": [
        "Antes de procesar las entradas, es crucial establecer la longitud de la secuencia (la máxima longitud del documento en términos de tokens) y el tamaño del lote (batch size). En Colab, enfrentamos ciertas restricciones (batch = 8 y secuencia = 96). Aunque es posible aumentar la longitud de la secuencia disminuyendo el tamaño del lote, en esta situación, esa modificación no nos afecta significativamente."
      ],
      "metadata": {
        "id": "zxbHMjHAbF9B"
      }
    },
    {
      "cell_type": "code",
      "source": [
        "max_seq_length = 96\n",
        "train_batch_size =  8\n",
        "eval_batch_size = 8\n",
        "test_batch_size = 8"
      ],
      "metadata": {
        "id": "vvU-Wt1RbLMV"
      },
      "execution_count": 14,
      "outputs": []
    },
    {
      "cell_type": "markdown",
      "source": [
        "## 5. Entrenamiento y evaluación de modelos\n"
      ],
      "metadata": {
        "id": "Y1EtZHFx7ij9"
      }
    },
    {
      "cell_type": "markdown",
      "source": [
        "Para proceder con el entrenamiento, necesitamos cargar el modelo en el entorno de ejecución. Utilizaremos la clase AutoModelForSequenceClassification(), diseñada para cargar modelos que se ajustarán para la clasificación de secuencias de textos.\n",
        "\n",
        "En esta clase, especificaremos la cantidad de etiquetas que manejamos en nuestro problema de clasificación (que son 2 en este caso), y añadiremos unos diccionarios que nos ayudarán a manejar y comprender mejor las salidas del modelo."
      ],
      "metadata": {
        "id": "w6YQ-e8nbniz"
      }
    },
    {
      "cell_type": "code",
      "source": [
        "from transformers import AutoModelForSequenceClassification, TrainingArguments, Trainer\n",
        "\n",
        "id2label = {0: \"No_cyberbullying\", 1: \"Cyberbullying\"}\n",
        "label2id = {\"No_cyberbullying\": 0, \"Cyberbullying\": 1}\n",
        "model = AutoModelForSequenceClassification.from_pretrained(model_name,\n",
        "                                                           num_labels=2,\n",
        "                                                           id2label=id2label,\n",
        "                                                           label2id=label2id)"
      ],
      "metadata": {
        "colab": {
          "base_uri": "https://localhost:8080/",
          "height": 180,
          "referenced_widgets": [
            "820ff92b0f0b48f3ae8124f50c248c9a",
            "3dd0a4719bc547ae962362bfbb4dccea",
            "c67ff9f3cd1646ca892551872fbc60e3",
            "1f0de40bd0814f6fb6c0314d1eb6cf62",
            "e04b49123d47484692b11be43bc99126",
            "92bcd127ff374613b0b38a31ea481564",
            "e6e4b7e132044dbab1904841d797bcc0",
            "6b3e73f9089c43afbf96a8d846c2af5e",
            "c9f223d15ccb4fd88b8cb503235490ea",
            "d1c8221204ad441dbd4f0ad8994dc7c2",
            "a9a91b40b7b84a39b3cea5988719e391"
          ]
        },
        "id": "--sQhJiybnBf",
        "outputId": "5206db63-bb41-478b-bfdb-ff0b9fb7453a"
      },
      "execution_count": 15,
      "outputs": [
        {
          "output_type": "stream",
          "name": "stderr",
          "text": [
            "/usr/local/lib/python3.10/dist-packages/transformers/utils/generic.py:309: UserWarning: torch.utils._pytree._register_pytree_node is deprecated. Please use torch.utils._pytree.register_pytree_node instead.\n",
            "  _torch_pytree._register_pytree_node(\n",
            "/usr/local/lib/python3.10/dist-packages/huggingface_hub/file_download.py:1132: FutureWarning: `resume_download` is deprecated and will be removed in version 1.0.0. Downloads always resume when possible. If you want to force a new download, use `force_download=True`.\n",
            "  warnings.warn(\n"
          ]
        },
        {
          "output_type": "display_data",
          "data": {
            "text/plain": [
              "model.safetensors:   0%|          | 0.00/440M [00:00<?, ?B/s]"
            ],
            "application/vnd.jupyter.widget-view+json": {
              "version_major": 2,
              "version_minor": 0,
              "model_id": "820ff92b0f0b48f3ae8124f50c248c9a"
            }
          },
          "metadata": {}
        },
        {
          "output_type": "stream",
          "name": "stderr",
          "text": [
            "Some weights of BertForSequenceClassification were not initialized from the model checkpoint at bert-base-uncased and are newly initialized: ['classifier.bias', 'classifier.weight']\n",
            "You should probably TRAIN this model on a down-stream task to be able to use it for predictions and inference.\n"
          ]
        }
      ]
    },
    {
      "cell_type": "markdown",
      "source": [
        "Definiré algunos parámetros necesarios para llevar a cabo el entrenamiento."
      ],
      "metadata": {
        "id": "orVEiB8_cJsP"
      }
    },
    {
      "cell_type": "code",
      "source": [
        "import accelerate\n",
        "\n",
        "training_args = TrainingArguments(\n",
        "    output_dir=\"modelo_test\",\n",
        "    learning_rate=2e-5,\n",
        "    per_device_train_batch_size=8,\n",
        "    per_device_eval_batch_size=8,\n",
        "    num_train_epochs=1,\n",
        "    weight_decay=0.01,\n",
        "    evaluation_strategy=\"epoch\",\n",
        "    save_strategy=\"epoch\",\n",
        "    load_best_model_at_end=True,\n",
        "    push_to_hub=False\n",
        ")"
      ],
      "metadata": {
        "id": "qqGaKgwtb3I_"
      },
      "execution_count": 16,
      "outputs": []
    },
    {
      "cell_type": "markdown",
      "source": [
        "Generó una función de cálculo de métricas de evaluación durante el entrenamiento."
      ],
      "metadata": {
        "id": "j7VQYGqlcsOe"
      }
    },
    {
      "cell_type": "code",
      "source": [
        "import numpy as np\n",
        "import evaluate\n",
        "\n",
        "accuracy = evaluate.load(\"accuracy\")\n",
        "f1_score = evaluate.load(\"f1\")\n",
        "\n",
        "def compute_metrics(eval_pred):\n",
        "    predictions, labels = eval_pred\n",
        "    predictions = np.argmax(predictions, axis=1)\n",
        "    accuracy_value = accuracy.compute(predictions=predictions, references=labels)\n",
        "    f1_score_value = f1_score.compute(predictions=predictions, references=labels)\n",
        "\n",
        "    return {\n",
        "        \"accuracy\": accuracy_value,\n",
        "        \"f1_score\": f1_score_value,\n",
        "    }"
      ],
      "metadata": {
        "colab": {
          "base_uri": "https://localhost:8080/",
          "height": 81,
          "referenced_widgets": [
            "de5b6a95dc29408ba02fbe14c886f6ab",
            "d0d1f597fe084c17a4c6d454ad10a80d",
            "b2ce00758b964e75a95148d9bf3268c9",
            "cdc724f2695d4f048f57ae342a3de4b2",
            "d8312ff6b4f04026b0139c4dfa6a2b07",
            "523fa7c6074f45fb80db59b91d32cc0c",
            "184d81b5ad6f4100b9eeba7ae90665d7",
            "6c757487bfed4d738bd35e4fbf4dbfa1",
            "2399262e77424eada1341e6f65b0e7aa",
            "1cca2df6f2a94e7ea2210760d4cfce63",
            "84b5acff07a14637954d7f42fea9b5a8",
            "8742dafa2cf9487ea7348a38cf2235cd",
            "04e7326cdc3142b786df4f5a25a961e9",
            "ab39d77f63a74bfa926a3921a71ff109",
            "678a661b66ff49f393e22696732daed2",
            "7edb789b685f4b9dbed2e209268f552a",
            "614f51a490334a8580ee9ca1555f746a",
            "3885fb993cc54bc3b73a589cabca6546",
            "89bd93241f784275847e8a5e6191cbbe",
            "1d1a8608059744988eef64bf084c05ee",
            "e7cabbd73e0c4bb8a1df4e29475eefd3",
            "6736e01b63154b5792fbfda3001774cf"
          ]
        },
        "id": "mrXdEp74caJJ",
        "outputId": "e2fb094d-c847-483c-f9a7-8d142c2529ec"
      },
      "execution_count": 17,
      "outputs": [
        {
          "output_type": "display_data",
          "data": {
            "text/plain": [
              "Downloading builder script:   0%|          | 0.00/4.20k [00:00<?, ?B/s]"
            ],
            "application/vnd.jupyter.widget-view+json": {
              "version_major": 2,
              "version_minor": 0,
              "model_id": "de5b6a95dc29408ba02fbe14c886f6ab"
            }
          },
          "metadata": {}
        },
        {
          "output_type": "display_data",
          "data": {
            "text/plain": [
              "Downloading builder script:   0%|          | 0.00/6.77k [00:00<?, ?B/s]"
            ],
            "application/vnd.jupyter.widget-view+json": {
              "version_major": 2,
              "version_minor": 0,
              "model_id": "8742dafa2cf9487ea7348a38cf2235cd"
            }
          },
          "metadata": {}
        }
      ]
    },
    {
      "cell_type": "markdown",
      "source": [
        "Creo el objeto Trainer(), que me permita llevar a cabo y ejecutar el ajuste del modelo."
      ],
      "metadata": {
        "id": "cWQNKPWZdDla"
      }
    },
    {
      "cell_type": "code",
      "source": [
        "trainer = Trainer(\n",
        "    model=model,\n",
        "    args=training_args,\n",
        "    train_dataset=train_dataset,\n",
        "    eval_dataset=val_dataset,\n",
        "    tokenizer=tokenizer,\n",
        "    compute_metrics=compute_metrics,\n",
        ")"
      ],
      "metadata": {
        "colab": {
          "base_uri": "https://localhost:8080/"
        },
        "id": "RlICCQ22c9FD",
        "outputId": "47480486-a7b8-4e58-a327-016809b6619a"
      },
      "execution_count": 18,
      "outputs": [
        {
          "output_type": "stream",
          "name": "stderr",
          "text": [
            "/usr/local/lib/python3.10/dist-packages/accelerate/accelerator.py:446: FutureWarning: Passing the following arguments to `Accelerator` is deprecated and will be removed in version 1.0 of Accelerate: dict_keys(['dispatch_batches', 'split_batches']). Please pass an `accelerate.DataLoaderConfiguration` instead: \n",
            "dataloader_config = DataLoaderConfiguration(dispatch_batches=None, split_batches=False)\n",
            "  warnings.warn(\n"
          ]
        }
      ]
    },
    {
      "cell_type": "code",
      "source": [
        "trainer.train()"
      ],
      "metadata": {
        "colab": {
          "base_uri": "https://localhost:8080/",
          "height": 181
        },
        "id": "cy3gSiUid1qw",
        "outputId": "e4e5c994-f8d0-4d62-8a6a-71d12e5837ca"
      },
      "execution_count": 19,
      "outputs": [
        {
          "output_type": "stream",
          "name": "stderr",
          "text": [
            "You're using a BertTokenizerFast tokenizer. Please note that with a fast tokenizer, using the `__call__` method is faster than using a method to encode the text followed by a call to the `pad` method to get a padded encoding.\n"
          ]
        },
        {
          "output_type": "display_data",
          "data": {
            "text/plain": [
              "<IPython.core.display.HTML object>"
            ],
            "text/html": [
              "\n",
              "    <div>\n",
              "      \n",
              "      <progress value='3577' max='3577' style='width:300px; height:20px; vertical-align: middle;'></progress>\n",
              "      [3577/3577 12:42, Epoch 1/1]\n",
              "    </div>\n",
              "    <table border=\"1\" class=\"dataframe\">\n",
              "  <thead>\n",
              " <tr style=\"text-align: left;\">\n",
              "      <th>Epoch</th>\n",
              "      <th>Training Loss</th>\n",
              "      <th>Validation Loss</th>\n",
              "      <th>Accuracy</th>\n",
              "      <th>F1 Score</th>\n",
              "    </tr>\n",
              "  </thead>\n",
              "  <tbody>\n",
              "    <tr>\n",
              "      <td>1</td>\n",
              "      <td>0.253400</td>\n",
              "      <td>0.250515</td>\n",
              "      <td>{'accuracy': 0.8943248532289628}</td>\n",
              "      <td>{'f1': 0.9387457462323773}</td>\n",
              "    </tr>\n",
              "  </tbody>\n",
              "</table><p>"
            ]
          },
          "metadata": {}
        },
        {
          "output_type": "stream",
          "name": "stderr",
          "text": [
            "Trainer is attempting to log a value of \"{'accuracy': 0.8943248532289628}\" of type <class 'dict'> for key \"eval/accuracy\" as a scalar. This invocation of Tensorboard's writer.add_scalar() is incorrect so we dropped this attribute.\n",
            "Trainer is attempting to log a value of \"{'f1': 0.9387457462323773}\" of type <class 'dict'> for key \"eval/f1_score\" as a scalar. This invocation of Tensorboard's writer.add_scalar() is incorrect so we dropped this attribute.\n"
          ]
        },
        {
          "output_type": "execute_result",
          "data": {
            "text/plain": [
              "TrainOutput(global_step=3577, training_loss=0.28243243884267105, metrics={'train_runtime': 765.7582, 'train_samples_per_second': 37.368, 'train_steps_per_second': 4.671, 'total_flos': 1882230712281600.0, 'train_loss': 0.28243243884267105, 'epoch': 1.0})"
            ]
          },
          "metadata": {},
          "execution_count": 19
        }
      ]
    },
    {
      "cell_type": "markdown",
      "source": [
        "**Evaluación**"
      ],
      "metadata": {
        "id": "BE1P6eFfhrWW"
      }
    },
    {
      "cell_type": "markdown",
      "source": [
        "Después de entrenar el modelo, procederemos a su evaluación.\n",
        "\n",
        "El objeto Trainer() cuenta con un método .evaluate(), que facilita la introducción de un conjunto de datos de evaluación y permite obtener las métricas de accuracy y f1 que se definieron anteriormente."
      ],
      "metadata": {
        "id": "ki3SiMf9h3zK"
      }
    },
    {
      "cell_type": "code",
      "source": [
        "trainer.evaluate(test_dataset)"
      ],
      "metadata": {
        "colab": {
          "base_uri": "https://localhost:8080/",
          "height": 203
        },
        "id": "DC_s-D6Whqv2",
        "outputId": "86fe85fb-68ce-40cf-cd2e-9ecc13909f44"
      },
      "execution_count": 20,
      "outputs": [
        {
          "output_type": "display_data",
          "data": {
            "text/plain": [
              "<IPython.core.display.HTML object>"
            ],
            "text/html": [
              "\n",
              "    <div>\n",
              "      \n",
              "      <progress value='1491' max='1491' style='width:300px; height:20px; vertical-align: middle;'></progress>\n",
              "      [1491/1491 01:27]\n",
              "    </div>\n",
              "    "
            ]
          },
          "metadata": {}
        },
        {
          "output_type": "stream",
          "name": "stderr",
          "text": [
            "Trainer is attempting to log a value of \"{'accuracy': 0.893315440744779}\" of type <class 'dict'> for key \"eval/accuracy\" as a scalar. This invocation of Tensorboard's writer.add_scalar() is incorrect so we dropped this attribute.\n",
            "Trainer is attempting to log a value of \"{'f1': 0.9381142356718887}\" of type <class 'dict'> for key \"eval/f1_score\" as a scalar. This invocation of Tensorboard's writer.add_scalar() is incorrect so we dropped this attribute.\n"
          ]
        },
        {
          "output_type": "execute_result",
          "data": {
            "text/plain": [
              "{'eval_loss': 0.25610971450805664,\n",
              " 'eval_accuracy': {'accuracy': 0.893315440744779},\n",
              " 'eval_f1_score': {'f1': 0.9381142356718887},\n",
              " 'eval_runtime': 87.8961,\n",
              " 'eval_samples_per_second': 135.649,\n",
              " 'eval_steps_per_second': 16.963,\n",
              " 'epoch': 1.0}"
            ]
          },
          "metadata": {},
          "execution_count": 20
        }
      ]
    },
    {
      "cell_type": "markdown",
      "source": [
        "También realizaremos un informe de clasificación para observar los puntajes relativos a cada categoría. Para ello, utilizaremos el método .predict() para predecir las etiquetas en el conjunto de prueba. Luego, extraeremos la etiqueta correspondiente de cada predicción."
      ],
      "metadata": {
        "id": "_ZNDvZlmiQss"
      }
    },
    {
      "cell_type": "code",
      "source": [
        "predictions = trainer.predict(test_dataset)"
      ],
      "metadata": {
        "colab": {
          "base_uri": "https://localhost:8080/",
          "height": 17
        },
        "id": "QM5P445aieWm",
        "outputId": "e7614643-be73-41ad-c745-51e7f1fb664c"
      },
      "execution_count": 21,
      "outputs": [
        {
          "output_type": "display_data",
          "data": {
            "text/plain": [
              "<IPython.core.display.HTML object>"
            ],
            "text/html": []
          },
          "metadata": {}
        }
      ]
    },
    {
      "cell_type": "code",
      "source": [
        "predictions[0][0]"
      ],
      "metadata": {
        "colab": {
          "base_uri": "https://localhost:8080/"
        },
        "id": "XqT8egiYiiTr",
        "outputId": "85e1ea9d-a7d7-416c-93f5-ac9d688a20ad"
      },
      "execution_count": 22,
      "outputs": [
        {
          "output_type": "execute_result",
          "data": {
            "text/plain": [
              "array([-3.1526096,  2.8488762], dtype=float32)"
            ]
          },
          "metadata": {},
          "execution_count": 22
        }
      ]
    },
    {
      "cell_type": "code",
      "source": [
        "y_pred = predictions.predictions.argmax(axis=1)"
      ],
      "metadata": {
        "id": "xawN2DrLi_ek"
      },
      "execution_count": 23,
      "outputs": []
    },
    {
      "cell_type": "markdown",
      "source": [
        "Utilizo las etiquetas verdaderas y calculamos el classification report"
      ],
      "metadata": {
        "id": "oQnRBnukjCrz"
      }
    },
    {
      "cell_type": "code",
      "source": [
        "y_true = [x[\"labels\"].item() for x in test_dataset]"
      ],
      "metadata": {
        "id": "iN7xsg59jBiN"
      },
      "execution_count": 24,
      "outputs": []
    },
    {
      "cell_type": "code",
      "source": [
        "from sklearn.metrics import classification_report, confusion_matrix\n",
        "print(confusion_matrix(y_true,y_pred))\n",
        "print(classification_report(y_true,y_pred))"
      ],
      "metadata": {
        "colab": {
          "base_uri": "https://localhost:8080/"
        },
        "id": "Er1Krm-VjKDH",
        "outputId": "b973ff59-f0f2-4844-b2f1-79f5fd4be508"
      },
      "execution_count": 25,
      "outputs": [
        {
          "output_type": "stream",
          "name": "stdout",
          "text": [
            "[[1010  976]\n",
            " [ 296 9641]]\n",
            "              precision    recall  f1-score   support\n",
            "\n",
            "           0       0.77      0.51      0.61      1986\n",
            "           1       0.91      0.97      0.94      9937\n",
            "\n",
            "    accuracy                           0.89     11923\n",
            "   macro avg       0.84      0.74      0.78     11923\n",
            "weighted avg       0.89      0.89      0.88     11923\n",
            "\n"
          ]
        }
      ]
    },
    {
      "cell_type": "markdown",
      "source": [
        "Podemos contrastar los resultados con los obtenidos mediante un clasificador que emplea ingeniería de características, evaluando las métricas de precisión, recall, f1-score y soporte."
      ],
      "metadata": {
        "id": "6VkiWjpFjYKq"
      }
    },
    {
      "cell_type": "markdown",
      "source": [
        "[[ 860 1124]\n",
        " [ 501 9020]]\n",
        "              precision    recall  f1-score   support\n",
        "\n",
        "         0.0       0.63      0.43      0.51      1984\n",
        "         1.0       0.89      0.95      0.92      9521\n",
        "\n",
        "     accuracy                           0.86     11505\n",
        "     macro avg       0.76      0.69      0.72     11505\n",
        "     weighted avg       0.84      0.86      0.85     11505"
      ],
      "metadata": {
        "id": "3bgvKSH8kpNt"
      }
    },
    {
      "cell_type": "markdown",
      "source": [
        "Como podemos ver, comparando con los resultados obtenidos del ejercicio 1, basicamente mi modelo mejora en casi todas las metricas, en cuanto a la precision tanto la categoria 0 y 1, han aumentado muchisimo, con mayor crecimiento la de \"No Cyberbullying\" que paso de un 0.63 a un 0.74. y en las metricas de recall y f1 tambien mejora esta categoria 0.\n",
        "\n",
        "La categoria 1 mejora, pero no tan notoriamente como la 0. Por lo que podemos concluir, que el modelo mejora y se ajusta muy bien."
      ],
      "metadata": {
        "id": "z2NkLWL9lM-Q"
      }
    },
    {
      "cell_type": "markdown",
      "source": [
        "También podemos predecir cualquier frase o tweet que quisiéramos de forma sencilla."
      ],
      "metadata": {
        "id": "sFhR9M8EoPLT"
      }
    },
    {
      "cell_type": "code",
      "source": [
        "# Create a function to predict for a single document\n",
        "device = torch.device('cuda' if torch.cuda.is_available() else 'cpu')\n",
        "\n",
        "def predict_single_document(document, max_length=128):\n",
        "    # Tokenize the input document\n",
        "    inputs = tokenizer(document, return_tensors=\"pt\", max_length=max_length, truncation=True)\n",
        "    inputs = {key: value.to(device) for key, value in inputs.items()}  # Move tensors to the same device as the model\n",
        "\n",
        "    # Make the prediction\n",
        "    with torch.no_grad():\n",
        "      model_output = trainer.model(**inputs)\n",
        "\n",
        "    # Access the predicted labels\n",
        "    predicted_label = torch.argmax(model_output.logits).item()\n",
        "\n",
        "    return predicted_label"
      ],
      "metadata": {
        "id": "XuBHetKLjNpo"
      },
      "execution_count": 26,
      "outputs": []
    },
    {
      "cell_type": "code",
      "source": [
        "#Escribe el texto que quieras clasificar\n",
        "input_text1 = 'I hate you'\n",
        "input_text2 = 'I feel so lucky to have you in my life, I love you'\n",
        "\n",
        "pred1 = predict_single_document(input_text1)\n",
        "pred2 = predict_single_document(input_text2)\n",
        "\n",
        "# label_mapping = {0:\"no molesto\",1:\"molesto\"}\n",
        "\n",
        "print(\"Clase texto 1: {}\".format(pred1))\n",
        "print(\"Clase texto 2: {}\".format(pred2))"
      ],
      "metadata": {
        "colab": {
          "base_uri": "https://localhost:8080/"
        },
        "id": "0JxCaH4noTtG",
        "outputId": "ae8a3a63-4a4d-496b-a2db-741c1a638086"
      },
      "execution_count": 27,
      "outputs": [
        {
          "output_type": "stream",
          "name": "stdout",
          "text": [
            "Clase texto 1: 1\n",
            "Clase texto 2: 0\n"
          ]
        }
      ]
    },
    {
      "cell_type": "code",
      "source": [],
      "metadata": {
        "id": "3thlm4SarohE"
      },
      "execution_count": 27,
      "outputs": []
    }
  ]
}